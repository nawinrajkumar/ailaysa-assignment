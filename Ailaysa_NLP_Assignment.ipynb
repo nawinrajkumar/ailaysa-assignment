{
  "nbformat": 4,
  "nbformat_minor": 0,
  "metadata": {
    "colab": {
      "provenance": [],
      "gpuType": "T4",
      "authorship_tag": "ABX9TyOfEuYx24XRxmGG1Yfe+OXF",
      "include_colab_link": true
    },
    "kernelspec": {
      "name": "python3",
      "display_name": "Python 3"
    },
    "language_info": {
      "name": "python"
    },
    "widgets": {
      "application/vnd.jupyter.widget-state+json": {
        "88e3e8e9398846ab8d7933cdae4f1726": {
          "model_module": "@jupyter-widgets/controls",
          "model_name": "HBoxModel",
          "model_module_version": "1.5.0",
          "state": {
            "_dom_classes": [],
            "_model_module": "@jupyter-widgets/controls",
            "_model_module_version": "1.5.0",
            "_model_name": "HBoxModel",
            "_view_count": null,
            "_view_module": "@jupyter-widgets/controls",
            "_view_module_version": "1.5.0",
            "_view_name": "HBoxView",
            "box_style": "",
            "children": [
              "IPY_MODEL_9f15476cde1741369422aa9a0555c44b",
              "IPY_MODEL_3e7d4976241545c2bb4f9f6bb737fc55",
              "IPY_MODEL_6c20576e4465493ebd404b4e7296b761"
            ],
            "layout": "IPY_MODEL_98c95c684329449f9b11f995a1ffeb3a"
          }
        },
        "9f15476cde1741369422aa9a0555c44b": {
          "model_module": "@jupyter-widgets/controls",
          "model_name": "HTMLModel",
          "model_module_version": "1.5.0",
          "state": {
            "_dom_classes": [],
            "_model_module": "@jupyter-widgets/controls",
            "_model_module_version": "1.5.0",
            "_model_name": "HTMLModel",
            "_view_count": null,
            "_view_module": "@jupyter-widgets/controls",
            "_view_module_version": "1.5.0",
            "_view_name": "HTMLView",
            "description": "",
            "description_tooltip": null,
            "layout": "IPY_MODEL_9a77483fabfa449cb1f71766a450ef34",
            "placeholder": "​",
            "style": "IPY_MODEL_4941b4a4ceb1413483b5ad6e866e9775",
            "value": "tokenizer_config.json: 100%"
          }
        },
        "3e7d4976241545c2bb4f9f6bb737fc55": {
          "model_module": "@jupyter-widgets/controls",
          "model_name": "FloatProgressModel",
          "model_module_version": "1.5.0",
          "state": {
            "_dom_classes": [],
            "_model_module": "@jupyter-widgets/controls",
            "_model_module_version": "1.5.0",
            "_model_name": "FloatProgressModel",
            "_view_count": null,
            "_view_module": "@jupyter-widgets/controls",
            "_view_module_version": "1.5.0",
            "_view_name": "ProgressView",
            "bar_style": "success",
            "description": "",
            "description_tooltip": null,
            "layout": "IPY_MODEL_568ffa6453524a7fa28914fd1a9c065e",
            "max": 49,
            "min": 0,
            "orientation": "horizontal",
            "style": "IPY_MODEL_1c5a77e4fc6b4df8a3e0c03cbd159935",
            "value": 49
          }
        },
        "6c20576e4465493ebd404b4e7296b761": {
          "model_module": "@jupyter-widgets/controls",
          "model_name": "HTMLModel",
          "model_module_version": "1.5.0",
          "state": {
            "_dom_classes": [],
            "_model_module": "@jupyter-widgets/controls",
            "_model_module_version": "1.5.0",
            "_model_name": "HTMLModel",
            "_view_count": null,
            "_view_module": "@jupyter-widgets/controls",
            "_view_module_version": "1.5.0",
            "_view_name": "HTMLView",
            "description": "",
            "description_tooltip": null,
            "layout": "IPY_MODEL_b8293d72cc444318958adabf575e939f",
            "placeholder": "​",
            "style": "IPY_MODEL_4363a5314aec4421b8436e1d67ca4850",
            "value": " 49.0/49.0 [00:00&lt;00:00, 1.39kB/s]"
          }
        },
        "98c95c684329449f9b11f995a1ffeb3a": {
          "model_module": "@jupyter-widgets/base",
          "model_name": "LayoutModel",
          "model_module_version": "1.2.0",
          "state": {
            "_model_module": "@jupyter-widgets/base",
            "_model_module_version": "1.2.0",
            "_model_name": "LayoutModel",
            "_view_count": null,
            "_view_module": "@jupyter-widgets/base",
            "_view_module_version": "1.2.0",
            "_view_name": "LayoutView",
            "align_content": null,
            "align_items": null,
            "align_self": null,
            "border": null,
            "bottom": null,
            "display": null,
            "flex": null,
            "flex_flow": null,
            "grid_area": null,
            "grid_auto_columns": null,
            "grid_auto_flow": null,
            "grid_auto_rows": null,
            "grid_column": null,
            "grid_gap": null,
            "grid_row": null,
            "grid_template_areas": null,
            "grid_template_columns": null,
            "grid_template_rows": null,
            "height": null,
            "justify_content": null,
            "justify_items": null,
            "left": null,
            "margin": null,
            "max_height": null,
            "max_width": null,
            "min_height": null,
            "min_width": null,
            "object_fit": null,
            "object_position": null,
            "order": null,
            "overflow": null,
            "overflow_x": null,
            "overflow_y": null,
            "padding": null,
            "right": null,
            "top": null,
            "visibility": null,
            "width": null
          }
        },
        "9a77483fabfa449cb1f71766a450ef34": {
          "model_module": "@jupyter-widgets/base",
          "model_name": "LayoutModel",
          "model_module_version": "1.2.0",
          "state": {
            "_model_module": "@jupyter-widgets/base",
            "_model_module_version": "1.2.0",
            "_model_name": "LayoutModel",
            "_view_count": null,
            "_view_module": "@jupyter-widgets/base",
            "_view_module_version": "1.2.0",
            "_view_name": "LayoutView",
            "align_content": null,
            "align_items": null,
            "align_self": null,
            "border": null,
            "bottom": null,
            "display": null,
            "flex": null,
            "flex_flow": null,
            "grid_area": null,
            "grid_auto_columns": null,
            "grid_auto_flow": null,
            "grid_auto_rows": null,
            "grid_column": null,
            "grid_gap": null,
            "grid_row": null,
            "grid_template_areas": null,
            "grid_template_columns": null,
            "grid_template_rows": null,
            "height": null,
            "justify_content": null,
            "justify_items": null,
            "left": null,
            "margin": null,
            "max_height": null,
            "max_width": null,
            "min_height": null,
            "min_width": null,
            "object_fit": null,
            "object_position": null,
            "order": null,
            "overflow": null,
            "overflow_x": null,
            "overflow_y": null,
            "padding": null,
            "right": null,
            "top": null,
            "visibility": null,
            "width": null
          }
        },
        "4941b4a4ceb1413483b5ad6e866e9775": {
          "model_module": "@jupyter-widgets/controls",
          "model_name": "DescriptionStyleModel",
          "model_module_version": "1.5.0",
          "state": {
            "_model_module": "@jupyter-widgets/controls",
            "_model_module_version": "1.5.0",
            "_model_name": "DescriptionStyleModel",
            "_view_count": null,
            "_view_module": "@jupyter-widgets/base",
            "_view_module_version": "1.2.0",
            "_view_name": "StyleView",
            "description_width": ""
          }
        },
        "568ffa6453524a7fa28914fd1a9c065e": {
          "model_module": "@jupyter-widgets/base",
          "model_name": "LayoutModel",
          "model_module_version": "1.2.0",
          "state": {
            "_model_module": "@jupyter-widgets/base",
            "_model_module_version": "1.2.0",
            "_model_name": "LayoutModel",
            "_view_count": null,
            "_view_module": "@jupyter-widgets/base",
            "_view_module_version": "1.2.0",
            "_view_name": "LayoutView",
            "align_content": null,
            "align_items": null,
            "align_self": null,
            "border": null,
            "bottom": null,
            "display": null,
            "flex": null,
            "flex_flow": null,
            "grid_area": null,
            "grid_auto_columns": null,
            "grid_auto_flow": null,
            "grid_auto_rows": null,
            "grid_column": null,
            "grid_gap": null,
            "grid_row": null,
            "grid_template_areas": null,
            "grid_template_columns": null,
            "grid_template_rows": null,
            "height": null,
            "justify_content": null,
            "justify_items": null,
            "left": null,
            "margin": null,
            "max_height": null,
            "max_width": null,
            "min_height": null,
            "min_width": null,
            "object_fit": null,
            "object_position": null,
            "order": null,
            "overflow": null,
            "overflow_x": null,
            "overflow_y": null,
            "padding": null,
            "right": null,
            "top": null,
            "visibility": null,
            "width": null
          }
        },
        "1c5a77e4fc6b4df8a3e0c03cbd159935": {
          "model_module": "@jupyter-widgets/controls",
          "model_name": "ProgressStyleModel",
          "model_module_version": "1.5.0",
          "state": {
            "_model_module": "@jupyter-widgets/controls",
            "_model_module_version": "1.5.0",
            "_model_name": "ProgressStyleModel",
            "_view_count": null,
            "_view_module": "@jupyter-widgets/base",
            "_view_module_version": "1.2.0",
            "_view_name": "StyleView",
            "bar_color": null,
            "description_width": ""
          }
        },
        "b8293d72cc444318958adabf575e939f": {
          "model_module": "@jupyter-widgets/base",
          "model_name": "LayoutModel",
          "model_module_version": "1.2.0",
          "state": {
            "_model_module": "@jupyter-widgets/base",
            "_model_module_version": "1.2.0",
            "_model_name": "LayoutModel",
            "_view_count": null,
            "_view_module": "@jupyter-widgets/base",
            "_view_module_version": "1.2.0",
            "_view_name": "LayoutView",
            "align_content": null,
            "align_items": null,
            "align_self": null,
            "border": null,
            "bottom": null,
            "display": null,
            "flex": null,
            "flex_flow": null,
            "grid_area": null,
            "grid_auto_columns": null,
            "grid_auto_flow": null,
            "grid_auto_rows": null,
            "grid_column": null,
            "grid_gap": null,
            "grid_row": null,
            "grid_template_areas": null,
            "grid_template_columns": null,
            "grid_template_rows": null,
            "height": null,
            "justify_content": null,
            "justify_items": null,
            "left": null,
            "margin": null,
            "max_height": null,
            "max_width": null,
            "min_height": null,
            "min_width": null,
            "object_fit": null,
            "object_position": null,
            "order": null,
            "overflow": null,
            "overflow_x": null,
            "overflow_y": null,
            "padding": null,
            "right": null,
            "top": null,
            "visibility": null,
            "width": null
          }
        },
        "4363a5314aec4421b8436e1d67ca4850": {
          "model_module": "@jupyter-widgets/controls",
          "model_name": "DescriptionStyleModel",
          "model_module_version": "1.5.0",
          "state": {
            "_model_module": "@jupyter-widgets/controls",
            "_model_module_version": "1.5.0",
            "_model_name": "DescriptionStyleModel",
            "_view_count": null,
            "_view_module": "@jupyter-widgets/base",
            "_view_module_version": "1.2.0",
            "_view_name": "StyleView",
            "description_width": ""
          }
        },
        "5d927bbc8ac34878a99ad025a270936c": {
          "model_module": "@jupyter-widgets/controls",
          "model_name": "HBoxModel",
          "model_module_version": "1.5.0",
          "state": {
            "_dom_classes": [],
            "_model_module": "@jupyter-widgets/controls",
            "_model_module_version": "1.5.0",
            "_model_name": "HBoxModel",
            "_view_count": null,
            "_view_module": "@jupyter-widgets/controls",
            "_view_module_version": "1.5.0",
            "_view_name": "HBoxView",
            "box_style": "",
            "children": [
              "IPY_MODEL_8efeff8265734773be71c507687ea4d3",
              "IPY_MODEL_61e0a18b9503457dae5315458ae90c88",
              "IPY_MODEL_c91367ffa63744019977ec643a0072e7"
            ],
            "layout": "IPY_MODEL_6e0002b7b43b417690710c0aae953e9c"
          }
        },
        "8efeff8265734773be71c507687ea4d3": {
          "model_module": "@jupyter-widgets/controls",
          "model_name": "HTMLModel",
          "model_module_version": "1.5.0",
          "state": {
            "_dom_classes": [],
            "_model_module": "@jupyter-widgets/controls",
            "_model_module_version": "1.5.0",
            "_model_name": "HTMLModel",
            "_view_count": null,
            "_view_module": "@jupyter-widgets/controls",
            "_view_module_version": "1.5.0",
            "_view_name": "HTMLView",
            "description": "",
            "description_tooltip": null,
            "layout": "IPY_MODEL_bfe1bdca40d14fb785d30709ee5f45f4",
            "placeholder": "​",
            "style": "IPY_MODEL_a12f71b439f44425ac824ce7b162d865",
            "value": "vocab.txt: 100%"
          }
        },
        "61e0a18b9503457dae5315458ae90c88": {
          "model_module": "@jupyter-widgets/controls",
          "model_name": "FloatProgressModel",
          "model_module_version": "1.5.0",
          "state": {
            "_dom_classes": [],
            "_model_module": "@jupyter-widgets/controls",
            "_model_module_version": "1.5.0",
            "_model_name": "FloatProgressModel",
            "_view_count": null,
            "_view_module": "@jupyter-widgets/controls",
            "_view_module_version": "1.5.0",
            "_view_name": "ProgressView",
            "bar_style": "success",
            "description": "",
            "description_tooltip": null,
            "layout": "IPY_MODEL_80de52aa4c474880aa7fc5ded1a3b833",
            "max": 213450,
            "min": 0,
            "orientation": "horizontal",
            "style": "IPY_MODEL_45ff358be78a4f7799859782c52f0b3e",
            "value": 213450
          }
        },
        "c91367ffa63744019977ec643a0072e7": {
          "model_module": "@jupyter-widgets/controls",
          "model_name": "HTMLModel",
          "model_module_version": "1.5.0",
          "state": {
            "_dom_classes": [],
            "_model_module": "@jupyter-widgets/controls",
            "_model_module_version": "1.5.0",
            "_model_name": "HTMLModel",
            "_view_count": null,
            "_view_module": "@jupyter-widgets/controls",
            "_view_module_version": "1.5.0",
            "_view_name": "HTMLView",
            "description": "",
            "description_tooltip": null,
            "layout": "IPY_MODEL_ac50c47ebc4c401d9073de26152fca9d",
            "placeholder": "​",
            "style": "IPY_MODEL_4e3f8d25a0cf451db730159a882195ce",
            "value": " 213k/213k [00:00&lt;00:00, 1.81MB/s]"
          }
        },
        "6e0002b7b43b417690710c0aae953e9c": {
          "model_module": "@jupyter-widgets/base",
          "model_name": "LayoutModel",
          "model_module_version": "1.2.0",
          "state": {
            "_model_module": "@jupyter-widgets/base",
            "_model_module_version": "1.2.0",
            "_model_name": "LayoutModel",
            "_view_count": null,
            "_view_module": "@jupyter-widgets/base",
            "_view_module_version": "1.2.0",
            "_view_name": "LayoutView",
            "align_content": null,
            "align_items": null,
            "align_self": null,
            "border": null,
            "bottom": null,
            "display": null,
            "flex": null,
            "flex_flow": null,
            "grid_area": null,
            "grid_auto_columns": null,
            "grid_auto_flow": null,
            "grid_auto_rows": null,
            "grid_column": null,
            "grid_gap": null,
            "grid_row": null,
            "grid_template_areas": null,
            "grid_template_columns": null,
            "grid_template_rows": null,
            "height": null,
            "justify_content": null,
            "justify_items": null,
            "left": null,
            "margin": null,
            "max_height": null,
            "max_width": null,
            "min_height": null,
            "min_width": null,
            "object_fit": null,
            "object_position": null,
            "order": null,
            "overflow": null,
            "overflow_x": null,
            "overflow_y": null,
            "padding": null,
            "right": null,
            "top": null,
            "visibility": null,
            "width": null
          }
        },
        "bfe1bdca40d14fb785d30709ee5f45f4": {
          "model_module": "@jupyter-widgets/base",
          "model_name": "LayoutModel",
          "model_module_version": "1.2.0",
          "state": {
            "_model_module": "@jupyter-widgets/base",
            "_model_module_version": "1.2.0",
            "_model_name": "LayoutModel",
            "_view_count": null,
            "_view_module": "@jupyter-widgets/base",
            "_view_module_version": "1.2.0",
            "_view_name": "LayoutView",
            "align_content": null,
            "align_items": null,
            "align_self": null,
            "border": null,
            "bottom": null,
            "display": null,
            "flex": null,
            "flex_flow": null,
            "grid_area": null,
            "grid_auto_columns": null,
            "grid_auto_flow": null,
            "grid_auto_rows": null,
            "grid_column": null,
            "grid_gap": null,
            "grid_row": null,
            "grid_template_areas": null,
            "grid_template_columns": null,
            "grid_template_rows": null,
            "height": null,
            "justify_content": null,
            "justify_items": null,
            "left": null,
            "margin": null,
            "max_height": null,
            "max_width": null,
            "min_height": null,
            "min_width": null,
            "object_fit": null,
            "object_position": null,
            "order": null,
            "overflow": null,
            "overflow_x": null,
            "overflow_y": null,
            "padding": null,
            "right": null,
            "top": null,
            "visibility": null,
            "width": null
          }
        },
        "a12f71b439f44425ac824ce7b162d865": {
          "model_module": "@jupyter-widgets/controls",
          "model_name": "DescriptionStyleModel",
          "model_module_version": "1.5.0",
          "state": {
            "_model_module": "@jupyter-widgets/controls",
            "_model_module_version": "1.5.0",
            "_model_name": "DescriptionStyleModel",
            "_view_count": null,
            "_view_module": "@jupyter-widgets/base",
            "_view_module_version": "1.2.0",
            "_view_name": "StyleView",
            "description_width": ""
          }
        },
        "80de52aa4c474880aa7fc5ded1a3b833": {
          "model_module": "@jupyter-widgets/base",
          "model_name": "LayoutModel",
          "model_module_version": "1.2.0",
          "state": {
            "_model_module": "@jupyter-widgets/base",
            "_model_module_version": "1.2.0",
            "_model_name": "LayoutModel",
            "_view_count": null,
            "_view_module": "@jupyter-widgets/base",
            "_view_module_version": "1.2.0",
            "_view_name": "LayoutView",
            "align_content": null,
            "align_items": null,
            "align_self": null,
            "border": null,
            "bottom": null,
            "display": null,
            "flex": null,
            "flex_flow": null,
            "grid_area": null,
            "grid_auto_columns": null,
            "grid_auto_flow": null,
            "grid_auto_rows": null,
            "grid_column": null,
            "grid_gap": null,
            "grid_row": null,
            "grid_template_areas": null,
            "grid_template_columns": null,
            "grid_template_rows": null,
            "height": null,
            "justify_content": null,
            "justify_items": null,
            "left": null,
            "margin": null,
            "max_height": null,
            "max_width": null,
            "min_height": null,
            "min_width": null,
            "object_fit": null,
            "object_position": null,
            "order": null,
            "overflow": null,
            "overflow_x": null,
            "overflow_y": null,
            "padding": null,
            "right": null,
            "top": null,
            "visibility": null,
            "width": null
          }
        },
        "45ff358be78a4f7799859782c52f0b3e": {
          "model_module": "@jupyter-widgets/controls",
          "model_name": "ProgressStyleModel",
          "model_module_version": "1.5.0",
          "state": {
            "_model_module": "@jupyter-widgets/controls",
            "_model_module_version": "1.5.0",
            "_model_name": "ProgressStyleModel",
            "_view_count": null,
            "_view_module": "@jupyter-widgets/base",
            "_view_module_version": "1.2.0",
            "_view_name": "StyleView",
            "bar_color": null,
            "description_width": ""
          }
        },
        "ac50c47ebc4c401d9073de26152fca9d": {
          "model_module": "@jupyter-widgets/base",
          "model_name": "LayoutModel",
          "model_module_version": "1.2.0",
          "state": {
            "_model_module": "@jupyter-widgets/base",
            "_model_module_version": "1.2.0",
            "_model_name": "LayoutModel",
            "_view_count": null,
            "_view_module": "@jupyter-widgets/base",
            "_view_module_version": "1.2.0",
            "_view_name": "LayoutView",
            "align_content": null,
            "align_items": null,
            "align_self": null,
            "border": null,
            "bottom": null,
            "display": null,
            "flex": null,
            "flex_flow": null,
            "grid_area": null,
            "grid_auto_columns": null,
            "grid_auto_flow": null,
            "grid_auto_rows": null,
            "grid_column": null,
            "grid_gap": null,
            "grid_row": null,
            "grid_template_areas": null,
            "grid_template_columns": null,
            "grid_template_rows": null,
            "height": null,
            "justify_content": null,
            "justify_items": null,
            "left": null,
            "margin": null,
            "max_height": null,
            "max_width": null,
            "min_height": null,
            "min_width": null,
            "object_fit": null,
            "object_position": null,
            "order": null,
            "overflow": null,
            "overflow_x": null,
            "overflow_y": null,
            "padding": null,
            "right": null,
            "top": null,
            "visibility": null,
            "width": null
          }
        },
        "4e3f8d25a0cf451db730159a882195ce": {
          "model_module": "@jupyter-widgets/controls",
          "model_name": "DescriptionStyleModel",
          "model_module_version": "1.5.0",
          "state": {
            "_model_module": "@jupyter-widgets/controls",
            "_model_module_version": "1.5.0",
            "_model_name": "DescriptionStyleModel",
            "_view_count": null,
            "_view_module": "@jupyter-widgets/base",
            "_view_module_version": "1.2.0",
            "_view_name": "StyleView",
            "description_width": ""
          }
        },
        "f07e4e744d5741ec8e4e6e4738dee255": {
          "model_module": "@jupyter-widgets/controls",
          "model_name": "HBoxModel",
          "model_module_version": "1.5.0",
          "state": {
            "_dom_classes": [],
            "_model_module": "@jupyter-widgets/controls",
            "_model_module_version": "1.5.0",
            "_model_name": "HBoxModel",
            "_view_count": null,
            "_view_module": "@jupyter-widgets/controls",
            "_view_module_version": "1.5.0",
            "_view_name": "HBoxView",
            "box_style": "",
            "children": [
              "IPY_MODEL_fdcfc099cabc43b49c42001a88798519",
              "IPY_MODEL_3a7617a2111941caac176dac27b648ad",
              "IPY_MODEL_9ca14411a09847728db0abd335801cc3"
            ],
            "layout": "IPY_MODEL_d473d74df4434e75ad5f43d559a1274e"
          }
        },
        "fdcfc099cabc43b49c42001a88798519": {
          "model_module": "@jupyter-widgets/controls",
          "model_name": "HTMLModel",
          "model_module_version": "1.5.0",
          "state": {
            "_dom_classes": [],
            "_model_module": "@jupyter-widgets/controls",
            "_model_module_version": "1.5.0",
            "_model_name": "HTMLModel",
            "_view_count": null,
            "_view_module": "@jupyter-widgets/controls",
            "_view_module_version": "1.5.0",
            "_view_name": "HTMLView",
            "description": "",
            "description_tooltip": null,
            "layout": "IPY_MODEL_839a505e935c482c8eba2a7a7ad984ac",
            "placeholder": "​",
            "style": "IPY_MODEL_cd62a773717e4113b4dedd3583d70418",
            "value": "tokenizer.json: 100%"
          }
        },
        "3a7617a2111941caac176dac27b648ad": {
          "model_module": "@jupyter-widgets/controls",
          "model_name": "FloatProgressModel",
          "model_module_version": "1.5.0",
          "state": {
            "_dom_classes": [],
            "_model_module": "@jupyter-widgets/controls",
            "_model_module_version": "1.5.0",
            "_model_name": "FloatProgressModel",
            "_view_count": null,
            "_view_module": "@jupyter-widgets/controls",
            "_view_module_version": "1.5.0",
            "_view_name": "ProgressView",
            "bar_style": "success",
            "description": "",
            "description_tooltip": null,
            "layout": "IPY_MODEL_7e256de2b616457e82a7b20e41d604f0",
            "max": 435797,
            "min": 0,
            "orientation": "horizontal",
            "style": "IPY_MODEL_a33095a971844fcfa64e4036ac80e043",
            "value": 435797
          }
        },
        "9ca14411a09847728db0abd335801cc3": {
          "model_module": "@jupyter-widgets/controls",
          "model_name": "HTMLModel",
          "model_module_version": "1.5.0",
          "state": {
            "_dom_classes": [],
            "_model_module": "@jupyter-widgets/controls",
            "_model_module_version": "1.5.0",
            "_model_name": "HTMLModel",
            "_view_count": null,
            "_view_module": "@jupyter-widgets/controls",
            "_view_module_version": "1.5.0",
            "_view_name": "HTMLView",
            "description": "",
            "description_tooltip": null,
            "layout": "IPY_MODEL_f851ddac0c5c46d2a0b9373288af9657",
            "placeholder": "​",
            "style": "IPY_MODEL_1bb88763dcb94458b20b7706ed6087ee",
            "value": " 436k/436k [00:00&lt;00:00, 8.04MB/s]"
          }
        },
        "d473d74df4434e75ad5f43d559a1274e": {
          "model_module": "@jupyter-widgets/base",
          "model_name": "LayoutModel",
          "model_module_version": "1.2.0",
          "state": {
            "_model_module": "@jupyter-widgets/base",
            "_model_module_version": "1.2.0",
            "_model_name": "LayoutModel",
            "_view_count": null,
            "_view_module": "@jupyter-widgets/base",
            "_view_module_version": "1.2.0",
            "_view_name": "LayoutView",
            "align_content": null,
            "align_items": null,
            "align_self": null,
            "border": null,
            "bottom": null,
            "display": null,
            "flex": null,
            "flex_flow": null,
            "grid_area": null,
            "grid_auto_columns": null,
            "grid_auto_flow": null,
            "grid_auto_rows": null,
            "grid_column": null,
            "grid_gap": null,
            "grid_row": null,
            "grid_template_areas": null,
            "grid_template_columns": null,
            "grid_template_rows": null,
            "height": null,
            "justify_content": null,
            "justify_items": null,
            "left": null,
            "margin": null,
            "max_height": null,
            "max_width": null,
            "min_height": null,
            "min_width": null,
            "object_fit": null,
            "object_position": null,
            "order": null,
            "overflow": null,
            "overflow_x": null,
            "overflow_y": null,
            "padding": null,
            "right": null,
            "top": null,
            "visibility": null,
            "width": null
          }
        },
        "839a505e935c482c8eba2a7a7ad984ac": {
          "model_module": "@jupyter-widgets/base",
          "model_name": "LayoutModel",
          "model_module_version": "1.2.0",
          "state": {
            "_model_module": "@jupyter-widgets/base",
            "_model_module_version": "1.2.0",
            "_model_name": "LayoutModel",
            "_view_count": null,
            "_view_module": "@jupyter-widgets/base",
            "_view_module_version": "1.2.0",
            "_view_name": "LayoutView",
            "align_content": null,
            "align_items": null,
            "align_self": null,
            "border": null,
            "bottom": null,
            "display": null,
            "flex": null,
            "flex_flow": null,
            "grid_area": null,
            "grid_auto_columns": null,
            "grid_auto_flow": null,
            "grid_auto_rows": null,
            "grid_column": null,
            "grid_gap": null,
            "grid_row": null,
            "grid_template_areas": null,
            "grid_template_columns": null,
            "grid_template_rows": null,
            "height": null,
            "justify_content": null,
            "justify_items": null,
            "left": null,
            "margin": null,
            "max_height": null,
            "max_width": null,
            "min_height": null,
            "min_width": null,
            "object_fit": null,
            "object_position": null,
            "order": null,
            "overflow": null,
            "overflow_x": null,
            "overflow_y": null,
            "padding": null,
            "right": null,
            "top": null,
            "visibility": null,
            "width": null
          }
        },
        "cd62a773717e4113b4dedd3583d70418": {
          "model_module": "@jupyter-widgets/controls",
          "model_name": "DescriptionStyleModel",
          "model_module_version": "1.5.0",
          "state": {
            "_model_module": "@jupyter-widgets/controls",
            "_model_module_version": "1.5.0",
            "_model_name": "DescriptionStyleModel",
            "_view_count": null,
            "_view_module": "@jupyter-widgets/base",
            "_view_module_version": "1.2.0",
            "_view_name": "StyleView",
            "description_width": ""
          }
        },
        "7e256de2b616457e82a7b20e41d604f0": {
          "model_module": "@jupyter-widgets/base",
          "model_name": "LayoutModel",
          "model_module_version": "1.2.0",
          "state": {
            "_model_module": "@jupyter-widgets/base",
            "_model_module_version": "1.2.0",
            "_model_name": "LayoutModel",
            "_view_count": null,
            "_view_module": "@jupyter-widgets/base",
            "_view_module_version": "1.2.0",
            "_view_name": "LayoutView",
            "align_content": null,
            "align_items": null,
            "align_self": null,
            "border": null,
            "bottom": null,
            "display": null,
            "flex": null,
            "flex_flow": null,
            "grid_area": null,
            "grid_auto_columns": null,
            "grid_auto_flow": null,
            "grid_auto_rows": null,
            "grid_column": null,
            "grid_gap": null,
            "grid_row": null,
            "grid_template_areas": null,
            "grid_template_columns": null,
            "grid_template_rows": null,
            "height": null,
            "justify_content": null,
            "justify_items": null,
            "left": null,
            "margin": null,
            "max_height": null,
            "max_width": null,
            "min_height": null,
            "min_width": null,
            "object_fit": null,
            "object_position": null,
            "order": null,
            "overflow": null,
            "overflow_x": null,
            "overflow_y": null,
            "padding": null,
            "right": null,
            "top": null,
            "visibility": null,
            "width": null
          }
        },
        "a33095a971844fcfa64e4036ac80e043": {
          "model_module": "@jupyter-widgets/controls",
          "model_name": "ProgressStyleModel",
          "model_module_version": "1.5.0",
          "state": {
            "_model_module": "@jupyter-widgets/controls",
            "_model_module_version": "1.5.0",
            "_model_name": "ProgressStyleModel",
            "_view_count": null,
            "_view_module": "@jupyter-widgets/base",
            "_view_module_version": "1.2.0",
            "_view_name": "StyleView",
            "bar_color": null,
            "description_width": ""
          }
        },
        "f851ddac0c5c46d2a0b9373288af9657": {
          "model_module": "@jupyter-widgets/base",
          "model_name": "LayoutModel",
          "model_module_version": "1.2.0",
          "state": {
            "_model_module": "@jupyter-widgets/base",
            "_model_module_version": "1.2.0",
            "_model_name": "LayoutModel",
            "_view_count": null,
            "_view_module": "@jupyter-widgets/base",
            "_view_module_version": "1.2.0",
            "_view_name": "LayoutView",
            "align_content": null,
            "align_items": null,
            "align_self": null,
            "border": null,
            "bottom": null,
            "display": null,
            "flex": null,
            "flex_flow": null,
            "grid_area": null,
            "grid_auto_columns": null,
            "grid_auto_flow": null,
            "grid_auto_rows": null,
            "grid_column": null,
            "grid_gap": null,
            "grid_row": null,
            "grid_template_areas": null,
            "grid_template_columns": null,
            "grid_template_rows": null,
            "height": null,
            "justify_content": null,
            "justify_items": null,
            "left": null,
            "margin": null,
            "max_height": null,
            "max_width": null,
            "min_height": null,
            "min_width": null,
            "object_fit": null,
            "object_position": null,
            "order": null,
            "overflow": null,
            "overflow_x": null,
            "overflow_y": null,
            "padding": null,
            "right": null,
            "top": null,
            "visibility": null,
            "width": null
          }
        },
        "1bb88763dcb94458b20b7706ed6087ee": {
          "model_module": "@jupyter-widgets/controls",
          "model_name": "DescriptionStyleModel",
          "model_module_version": "1.5.0",
          "state": {
            "_model_module": "@jupyter-widgets/controls",
            "_model_module_version": "1.5.0",
            "_model_name": "DescriptionStyleModel",
            "_view_count": null,
            "_view_module": "@jupyter-widgets/base",
            "_view_module_version": "1.2.0",
            "_view_name": "StyleView",
            "description_width": ""
          }
        },
        "eb562d2780c9404a902912c769d4fbc8": {
          "model_module": "@jupyter-widgets/controls",
          "model_name": "HBoxModel",
          "model_module_version": "1.5.0",
          "state": {
            "_dom_classes": [],
            "_model_module": "@jupyter-widgets/controls",
            "_model_module_version": "1.5.0",
            "_model_name": "HBoxModel",
            "_view_count": null,
            "_view_module": "@jupyter-widgets/controls",
            "_view_module_version": "1.5.0",
            "_view_name": "HBoxView",
            "box_style": "",
            "children": [
              "IPY_MODEL_eab7093c241b4770a4b8bb8c3e0a319a",
              "IPY_MODEL_f764506079464b83a0fe18f0329a7d6e",
              "IPY_MODEL_6b35033170064229a62b66069d3de506"
            ],
            "layout": "IPY_MODEL_d0ea198020b3444e8716babb96c785c2"
          }
        },
        "eab7093c241b4770a4b8bb8c3e0a319a": {
          "model_module": "@jupyter-widgets/controls",
          "model_name": "HTMLModel",
          "model_module_version": "1.5.0",
          "state": {
            "_dom_classes": [],
            "_model_module": "@jupyter-widgets/controls",
            "_model_module_version": "1.5.0",
            "_model_name": "HTMLModel",
            "_view_count": null,
            "_view_module": "@jupyter-widgets/controls",
            "_view_module_version": "1.5.0",
            "_view_name": "HTMLView",
            "description": "",
            "description_tooltip": null,
            "layout": "IPY_MODEL_a8935b8876d844f8ac5d8e28bed836f8",
            "placeholder": "​",
            "style": "IPY_MODEL_d7cb4de32bbb423d8e5e2d6a932c5ea8",
            "value": "config.json: 100%"
          }
        },
        "f764506079464b83a0fe18f0329a7d6e": {
          "model_module": "@jupyter-widgets/controls",
          "model_name": "FloatProgressModel",
          "model_module_version": "1.5.0",
          "state": {
            "_dom_classes": [],
            "_model_module": "@jupyter-widgets/controls",
            "_model_module_version": "1.5.0",
            "_model_name": "FloatProgressModel",
            "_view_count": null,
            "_view_module": "@jupyter-widgets/controls",
            "_view_module_version": "1.5.0",
            "_view_name": "ProgressView",
            "bar_style": "success",
            "description": "",
            "description_tooltip": null,
            "layout": "IPY_MODEL_4747dc757aee4a528e9ed89d04ec6b90",
            "max": 570,
            "min": 0,
            "orientation": "horizontal",
            "style": "IPY_MODEL_30ee329a3d6146cbb03939b20cf78064",
            "value": 570
          }
        },
        "6b35033170064229a62b66069d3de506": {
          "model_module": "@jupyter-widgets/controls",
          "model_name": "HTMLModel",
          "model_module_version": "1.5.0",
          "state": {
            "_dom_classes": [],
            "_model_module": "@jupyter-widgets/controls",
            "_model_module_version": "1.5.0",
            "_model_name": "HTMLModel",
            "_view_count": null,
            "_view_module": "@jupyter-widgets/controls",
            "_view_module_version": "1.5.0",
            "_view_name": "HTMLView",
            "description": "",
            "description_tooltip": null,
            "layout": "IPY_MODEL_dab1bae8466f4cbbb0a3b28a94c64248",
            "placeholder": "​",
            "style": "IPY_MODEL_60958796ecac44d690ecffea17e5caaf",
            "value": " 570/570 [00:00&lt;00:00, 8.07kB/s]"
          }
        },
        "d0ea198020b3444e8716babb96c785c2": {
          "model_module": "@jupyter-widgets/base",
          "model_name": "LayoutModel",
          "model_module_version": "1.2.0",
          "state": {
            "_model_module": "@jupyter-widgets/base",
            "_model_module_version": "1.2.0",
            "_model_name": "LayoutModel",
            "_view_count": null,
            "_view_module": "@jupyter-widgets/base",
            "_view_module_version": "1.2.0",
            "_view_name": "LayoutView",
            "align_content": null,
            "align_items": null,
            "align_self": null,
            "border": null,
            "bottom": null,
            "display": null,
            "flex": null,
            "flex_flow": null,
            "grid_area": null,
            "grid_auto_columns": null,
            "grid_auto_flow": null,
            "grid_auto_rows": null,
            "grid_column": null,
            "grid_gap": null,
            "grid_row": null,
            "grid_template_areas": null,
            "grid_template_columns": null,
            "grid_template_rows": null,
            "height": null,
            "justify_content": null,
            "justify_items": null,
            "left": null,
            "margin": null,
            "max_height": null,
            "max_width": null,
            "min_height": null,
            "min_width": null,
            "object_fit": null,
            "object_position": null,
            "order": null,
            "overflow": null,
            "overflow_x": null,
            "overflow_y": null,
            "padding": null,
            "right": null,
            "top": null,
            "visibility": null,
            "width": null
          }
        },
        "a8935b8876d844f8ac5d8e28bed836f8": {
          "model_module": "@jupyter-widgets/base",
          "model_name": "LayoutModel",
          "model_module_version": "1.2.0",
          "state": {
            "_model_module": "@jupyter-widgets/base",
            "_model_module_version": "1.2.0",
            "_model_name": "LayoutModel",
            "_view_count": null,
            "_view_module": "@jupyter-widgets/base",
            "_view_module_version": "1.2.0",
            "_view_name": "LayoutView",
            "align_content": null,
            "align_items": null,
            "align_self": null,
            "border": null,
            "bottom": null,
            "display": null,
            "flex": null,
            "flex_flow": null,
            "grid_area": null,
            "grid_auto_columns": null,
            "grid_auto_flow": null,
            "grid_auto_rows": null,
            "grid_column": null,
            "grid_gap": null,
            "grid_row": null,
            "grid_template_areas": null,
            "grid_template_columns": null,
            "grid_template_rows": null,
            "height": null,
            "justify_content": null,
            "justify_items": null,
            "left": null,
            "margin": null,
            "max_height": null,
            "max_width": null,
            "min_height": null,
            "min_width": null,
            "object_fit": null,
            "object_position": null,
            "order": null,
            "overflow": null,
            "overflow_x": null,
            "overflow_y": null,
            "padding": null,
            "right": null,
            "top": null,
            "visibility": null,
            "width": null
          }
        },
        "d7cb4de32bbb423d8e5e2d6a932c5ea8": {
          "model_module": "@jupyter-widgets/controls",
          "model_name": "DescriptionStyleModel",
          "model_module_version": "1.5.0",
          "state": {
            "_model_module": "@jupyter-widgets/controls",
            "_model_module_version": "1.5.0",
            "_model_name": "DescriptionStyleModel",
            "_view_count": null,
            "_view_module": "@jupyter-widgets/base",
            "_view_module_version": "1.2.0",
            "_view_name": "StyleView",
            "description_width": ""
          }
        },
        "4747dc757aee4a528e9ed89d04ec6b90": {
          "model_module": "@jupyter-widgets/base",
          "model_name": "LayoutModel",
          "model_module_version": "1.2.0",
          "state": {
            "_model_module": "@jupyter-widgets/base",
            "_model_module_version": "1.2.0",
            "_model_name": "LayoutModel",
            "_view_count": null,
            "_view_module": "@jupyter-widgets/base",
            "_view_module_version": "1.2.0",
            "_view_name": "LayoutView",
            "align_content": null,
            "align_items": null,
            "align_self": null,
            "border": null,
            "bottom": null,
            "display": null,
            "flex": null,
            "flex_flow": null,
            "grid_area": null,
            "grid_auto_columns": null,
            "grid_auto_flow": null,
            "grid_auto_rows": null,
            "grid_column": null,
            "grid_gap": null,
            "grid_row": null,
            "grid_template_areas": null,
            "grid_template_columns": null,
            "grid_template_rows": null,
            "height": null,
            "justify_content": null,
            "justify_items": null,
            "left": null,
            "margin": null,
            "max_height": null,
            "max_width": null,
            "min_height": null,
            "min_width": null,
            "object_fit": null,
            "object_position": null,
            "order": null,
            "overflow": null,
            "overflow_x": null,
            "overflow_y": null,
            "padding": null,
            "right": null,
            "top": null,
            "visibility": null,
            "width": null
          }
        },
        "30ee329a3d6146cbb03939b20cf78064": {
          "model_module": "@jupyter-widgets/controls",
          "model_name": "ProgressStyleModel",
          "model_module_version": "1.5.0",
          "state": {
            "_model_module": "@jupyter-widgets/controls",
            "_model_module_version": "1.5.0",
            "_model_name": "ProgressStyleModel",
            "_view_count": null,
            "_view_module": "@jupyter-widgets/base",
            "_view_module_version": "1.2.0",
            "_view_name": "StyleView",
            "bar_color": null,
            "description_width": ""
          }
        },
        "dab1bae8466f4cbbb0a3b28a94c64248": {
          "model_module": "@jupyter-widgets/base",
          "model_name": "LayoutModel",
          "model_module_version": "1.2.0",
          "state": {
            "_model_module": "@jupyter-widgets/base",
            "_model_module_version": "1.2.0",
            "_model_name": "LayoutModel",
            "_view_count": null,
            "_view_module": "@jupyter-widgets/base",
            "_view_module_version": "1.2.0",
            "_view_name": "LayoutView",
            "align_content": null,
            "align_items": null,
            "align_self": null,
            "border": null,
            "bottom": null,
            "display": null,
            "flex": null,
            "flex_flow": null,
            "grid_area": null,
            "grid_auto_columns": null,
            "grid_auto_flow": null,
            "grid_auto_rows": null,
            "grid_column": null,
            "grid_gap": null,
            "grid_row": null,
            "grid_template_areas": null,
            "grid_template_columns": null,
            "grid_template_rows": null,
            "height": null,
            "justify_content": null,
            "justify_items": null,
            "left": null,
            "margin": null,
            "max_height": null,
            "max_width": null,
            "min_height": null,
            "min_width": null,
            "object_fit": null,
            "object_position": null,
            "order": null,
            "overflow": null,
            "overflow_x": null,
            "overflow_y": null,
            "padding": null,
            "right": null,
            "top": null,
            "visibility": null,
            "width": null
          }
        },
        "60958796ecac44d690ecffea17e5caaf": {
          "model_module": "@jupyter-widgets/controls",
          "model_name": "DescriptionStyleModel",
          "model_module_version": "1.5.0",
          "state": {
            "_model_module": "@jupyter-widgets/controls",
            "_model_module_version": "1.5.0",
            "_model_name": "DescriptionStyleModel",
            "_view_count": null,
            "_view_module": "@jupyter-widgets/base",
            "_view_module_version": "1.2.0",
            "_view_name": "StyleView",
            "description_width": ""
          }
        },
        "303c906729354d2f8f73dfc520938c18": {
          "model_module": "@jupyter-widgets/controls",
          "model_name": "HBoxModel",
          "model_module_version": "1.5.0",
          "state": {
            "_dom_classes": [],
            "_model_module": "@jupyter-widgets/controls",
            "_model_module_version": "1.5.0",
            "_model_name": "HBoxModel",
            "_view_count": null,
            "_view_module": "@jupyter-widgets/controls",
            "_view_module_version": "1.5.0",
            "_view_name": "HBoxView",
            "box_style": "",
            "children": [
              "IPY_MODEL_4293d5c7493a4e8fb473d51e8c6b1661",
              "IPY_MODEL_b96611ade6ad45eca121d31bf4e8c1ca",
              "IPY_MODEL_b8e925e161a2472398817dd42f65903c"
            ],
            "layout": "IPY_MODEL_5d399877b6d347f2ac700239ef911083"
          }
        },
        "4293d5c7493a4e8fb473d51e8c6b1661": {
          "model_module": "@jupyter-widgets/controls",
          "model_name": "HTMLModel",
          "model_module_version": "1.5.0",
          "state": {
            "_dom_classes": [],
            "_model_module": "@jupyter-widgets/controls",
            "_model_module_version": "1.5.0",
            "_model_name": "HTMLModel",
            "_view_count": null,
            "_view_module": "@jupyter-widgets/controls",
            "_view_module_version": "1.5.0",
            "_view_name": "HTMLView",
            "description": "",
            "description_tooltip": null,
            "layout": "IPY_MODEL_0ca4c3c86b1a4f1ca011445f672a115a",
            "placeholder": "​",
            "style": "IPY_MODEL_8bb801a446cf424788dd9546981147e2",
            "value": "Map: 100%"
          }
        },
        "b96611ade6ad45eca121d31bf4e8c1ca": {
          "model_module": "@jupyter-widgets/controls",
          "model_name": "FloatProgressModel",
          "model_module_version": "1.5.0",
          "state": {
            "_dom_classes": [],
            "_model_module": "@jupyter-widgets/controls",
            "_model_module_version": "1.5.0",
            "_model_name": "FloatProgressModel",
            "_view_count": null,
            "_view_module": "@jupyter-widgets/controls",
            "_view_module_version": "1.5.0",
            "_view_name": "ProgressView",
            "bar_style": "success",
            "description": "",
            "description_tooltip": null,
            "layout": "IPY_MODEL_31ff2ed7ff1f4a2492b8de95bce517c2",
            "max": 500,
            "min": 0,
            "orientation": "horizontal",
            "style": "IPY_MODEL_a4fe2accdbc64d50878e9a78aed74352",
            "value": 500
          }
        },
        "b8e925e161a2472398817dd42f65903c": {
          "model_module": "@jupyter-widgets/controls",
          "model_name": "HTMLModel",
          "model_module_version": "1.5.0",
          "state": {
            "_dom_classes": [],
            "_model_module": "@jupyter-widgets/controls",
            "_model_module_version": "1.5.0",
            "_model_name": "HTMLModel",
            "_view_count": null,
            "_view_module": "@jupyter-widgets/controls",
            "_view_module_version": "1.5.0",
            "_view_name": "HTMLView",
            "description": "",
            "description_tooltip": null,
            "layout": "IPY_MODEL_ead314165fb7493aa63acdb180fdce16",
            "placeholder": "​",
            "style": "IPY_MODEL_cb36a91325e74938b0ab4e7af15e1d55",
            "value": " 500/500 [00:00&lt;00:00, 1113.02 examples/s]"
          }
        },
        "5d399877b6d347f2ac700239ef911083": {
          "model_module": "@jupyter-widgets/base",
          "model_name": "LayoutModel",
          "model_module_version": "1.2.0",
          "state": {
            "_model_module": "@jupyter-widgets/base",
            "_model_module_version": "1.2.0",
            "_model_name": "LayoutModel",
            "_view_count": null,
            "_view_module": "@jupyter-widgets/base",
            "_view_module_version": "1.2.0",
            "_view_name": "LayoutView",
            "align_content": null,
            "align_items": null,
            "align_self": null,
            "border": null,
            "bottom": null,
            "display": null,
            "flex": null,
            "flex_flow": null,
            "grid_area": null,
            "grid_auto_columns": null,
            "grid_auto_flow": null,
            "grid_auto_rows": null,
            "grid_column": null,
            "grid_gap": null,
            "grid_row": null,
            "grid_template_areas": null,
            "grid_template_columns": null,
            "grid_template_rows": null,
            "height": null,
            "justify_content": null,
            "justify_items": null,
            "left": null,
            "margin": null,
            "max_height": null,
            "max_width": null,
            "min_height": null,
            "min_width": null,
            "object_fit": null,
            "object_position": null,
            "order": null,
            "overflow": null,
            "overflow_x": null,
            "overflow_y": null,
            "padding": null,
            "right": null,
            "top": null,
            "visibility": null,
            "width": null
          }
        },
        "0ca4c3c86b1a4f1ca011445f672a115a": {
          "model_module": "@jupyter-widgets/base",
          "model_name": "LayoutModel",
          "model_module_version": "1.2.0",
          "state": {
            "_model_module": "@jupyter-widgets/base",
            "_model_module_version": "1.2.0",
            "_model_name": "LayoutModel",
            "_view_count": null,
            "_view_module": "@jupyter-widgets/base",
            "_view_module_version": "1.2.0",
            "_view_name": "LayoutView",
            "align_content": null,
            "align_items": null,
            "align_self": null,
            "border": null,
            "bottom": null,
            "display": null,
            "flex": null,
            "flex_flow": null,
            "grid_area": null,
            "grid_auto_columns": null,
            "grid_auto_flow": null,
            "grid_auto_rows": null,
            "grid_column": null,
            "grid_gap": null,
            "grid_row": null,
            "grid_template_areas": null,
            "grid_template_columns": null,
            "grid_template_rows": null,
            "height": null,
            "justify_content": null,
            "justify_items": null,
            "left": null,
            "margin": null,
            "max_height": null,
            "max_width": null,
            "min_height": null,
            "min_width": null,
            "object_fit": null,
            "object_position": null,
            "order": null,
            "overflow": null,
            "overflow_x": null,
            "overflow_y": null,
            "padding": null,
            "right": null,
            "top": null,
            "visibility": null,
            "width": null
          }
        },
        "8bb801a446cf424788dd9546981147e2": {
          "model_module": "@jupyter-widgets/controls",
          "model_name": "DescriptionStyleModel",
          "model_module_version": "1.5.0",
          "state": {
            "_model_module": "@jupyter-widgets/controls",
            "_model_module_version": "1.5.0",
            "_model_name": "DescriptionStyleModel",
            "_view_count": null,
            "_view_module": "@jupyter-widgets/base",
            "_view_module_version": "1.2.0",
            "_view_name": "StyleView",
            "description_width": ""
          }
        },
        "31ff2ed7ff1f4a2492b8de95bce517c2": {
          "model_module": "@jupyter-widgets/base",
          "model_name": "LayoutModel",
          "model_module_version": "1.2.0",
          "state": {
            "_model_module": "@jupyter-widgets/base",
            "_model_module_version": "1.2.0",
            "_model_name": "LayoutModel",
            "_view_count": null,
            "_view_module": "@jupyter-widgets/base",
            "_view_module_version": "1.2.0",
            "_view_name": "LayoutView",
            "align_content": null,
            "align_items": null,
            "align_self": null,
            "border": null,
            "bottom": null,
            "display": null,
            "flex": null,
            "flex_flow": null,
            "grid_area": null,
            "grid_auto_columns": null,
            "grid_auto_flow": null,
            "grid_auto_rows": null,
            "grid_column": null,
            "grid_gap": null,
            "grid_row": null,
            "grid_template_areas": null,
            "grid_template_columns": null,
            "grid_template_rows": null,
            "height": null,
            "justify_content": null,
            "justify_items": null,
            "left": null,
            "margin": null,
            "max_height": null,
            "max_width": null,
            "min_height": null,
            "min_width": null,
            "object_fit": null,
            "object_position": null,
            "order": null,
            "overflow": null,
            "overflow_x": null,
            "overflow_y": null,
            "padding": null,
            "right": null,
            "top": null,
            "visibility": null,
            "width": null
          }
        },
        "a4fe2accdbc64d50878e9a78aed74352": {
          "model_module": "@jupyter-widgets/controls",
          "model_name": "ProgressStyleModel",
          "model_module_version": "1.5.0",
          "state": {
            "_model_module": "@jupyter-widgets/controls",
            "_model_module_version": "1.5.0",
            "_model_name": "ProgressStyleModel",
            "_view_count": null,
            "_view_module": "@jupyter-widgets/base",
            "_view_module_version": "1.2.0",
            "_view_name": "StyleView",
            "bar_color": null,
            "description_width": ""
          }
        },
        "ead314165fb7493aa63acdb180fdce16": {
          "model_module": "@jupyter-widgets/base",
          "model_name": "LayoutModel",
          "model_module_version": "1.2.0",
          "state": {
            "_model_module": "@jupyter-widgets/base",
            "_model_module_version": "1.2.0",
            "_model_name": "LayoutModel",
            "_view_count": null,
            "_view_module": "@jupyter-widgets/base",
            "_view_module_version": "1.2.0",
            "_view_name": "LayoutView",
            "align_content": null,
            "align_items": null,
            "align_self": null,
            "border": null,
            "bottom": null,
            "display": null,
            "flex": null,
            "flex_flow": null,
            "grid_area": null,
            "grid_auto_columns": null,
            "grid_auto_flow": null,
            "grid_auto_rows": null,
            "grid_column": null,
            "grid_gap": null,
            "grid_row": null,
            "grid_template_areas": null,
            "grid_template_columns": null,
            "grid_template_rows": null,
            "height": null,
            "justify_content": null,
            "justify_items": null,
            "left": null,
            "margin": null,
            "max_height": null,
            "max_width": null,
            "min_height": null,
            "min_width": null,
            "object_fit": null,
            "object_position": null,
            "order": null,
            "overflow": null,
            "overflow_x": null,
            "overflow_y": null,
            "padding": null,
            "right": null,
            "top": null,
            "visibility": null,
            "width": null
          }
        },
        "cb36a91325e74938b0ab4e7af15e1d55": {
          "model_module": "@jupyter-widgets/controls",
          "model_name": "DescriptionStyleModel",
          "model_module_version": "1.5.0",
          "state": {
            "_model_module": "@jupyter-widgets/controls",
            "_model_module_version": "1.5.0",
            "_model_name": "DescriptionStyleModel",
            "_view_count": null,
            "_view_module": "@jupyter-widgets/base",
            "_view_module_version": "1.2.0",
            "_view_name": "StyleView",
            "description_width": ""
          }
        }
      }
    },
    "accelerator": "GPU"
  },
  "cells": [
    {
      "cell_type": "markdown",
      "metadata": {
        "id": "view-in-github",
        "colab_type": "text"
      },
      "source": [
        "<a href=\"https://colab.research.google.com/github/nawinrajkumar/ailaysa-assignment/blob/main/Ailaysa_NLP_Assignment.ipynb\" target=\"_parent\"><img src=\"https://colab.research.google.com/assets/colab-badge.svg\" alt=\"Open In Colab\"/></a>"
      ]
    },
    {
      "cell_type": "markdown",
      "source": [
        "# Ailaysa NLP Assignment\n",
        "\n",
        "\n",
        "## Question 1:"
      ],
      "metadata": {
        "id": "BfSPlJQl7DBw"
      }
    },
    {
      "cell_type": "code",
      "execution_count": null,
      "metadata": {
        "colab": {
          "base_uri": "https://localhost:8080/"
        },
        "id": "csB5Vqfs6_M3",
        "outputId": "ac38bdcc-c39c-445b-c1ab-01dd15582390"
      },
      "outputs": [
        {
          "output_type": "stream",
          "name": "stdout",
          "text": [
            "        Name   Age           City   Salary\n",
            "0   Person_1  40.0         Boston  80000.0\n",
            "1   Person_2   NaN         Boston  50000.0\n",
            "2   Person_3  35.0         Boston  80000.0\n",
            "3   Person_4   NaN           None  60000.0\n",
            "4   Person_5   NaN    Los Angeles  50000.0\n",
            "5   Person_6  30.0       New York      NaN\n",
            "6   Person_7  35.0         Boston  70000.0\n",
            "7   Person_8  35.0  San Francisco  80000.0\n",
            "8   Person_9  35.0         Boston  70000.0\n",
            "9  Person_10   NaN  San Francisco  70000.0\n"
          ]
        }
      ],
      "source": [
        "import pandas as pd\n",
        "\n",
        "data = {\n",
        "    'Name': ['Person_1', 'Person_2', 'Person_3', 'Person_4', 'Person_5', 'Person_6', 'Person_7', 'Person_8', 'Person_9', 'Person_10'],\n",
        "    'Age': [40, None, 35, None, None, 30, 35, 35, 35, None],\n",
        "    'City': ['Boston', 'Boston', 'Boston', None, 'Los Angeles', 'New York', 'Boston', 'San Francisco', 'Boston', 'San Francisco'],\n",
        "    'Salary': [80000, 50000, 80000, 60000, 50000, None, 70000, 80000, 70000, 70000]\n",
        "}\n",
        "\n",
        "df = pd.DataFrame(data)\n",
        "print(df)\n"
      ]
    },
    {
      "cell_type": "markdown",
      "source": [
        "### Method 1: Use fillna method"
      ],
      "metadata": {
        "id": "m7_QKUt17Yfm"
      }
    },
    {
      "cell_type": "code",
      "source": [
        "df_ffill = df.fillna(method='ffill')\n",
        "print(\"DataFrame after forward filling missing values:\")\n",
        "print(df_ffill)\n"
      ],
      "metadata": {
        "colab": {
          "base_uri": "https://localhost:8080/"
        },
        "id": "Gt94c0bK7I9M",
        "outputId": "fceff28e-22d1-4fba-c944-7b6078b9009f"
      },
      "execution_count": null,
      "outputs": [
        {
          "output_type": "stream",
          "name": "stdout",
          "text": [
            "DataFrame after forward filling missing values:\n",
            "        Name   Age           City   Salary\n",
            "0   Person_1  40.0         Boston  80000.0\n",
            "1   Person_2  40.0         Boston  50000.0\n",
            "2   Person_3  35.0         Boston  80000.0\n",
            "3   Person_4  35.0         Boston  60000.0\n",
            "4   Person_5  35.0    Los Angeles  50000.0\n",
            "5   Person_6  30.0       New York  50000.0\n",
            "6   Person_7  35.0         Boston  70000.0\n",
            "7   Person_8  35.0  San Francisco  80000.0\n",
            "8   Person_9  35.0         Boston  70000.0\n",
            "9  Person_10  35.0  San Francisco  70000.0\n"
          ]
        },
        {
          "output_type": "stream",
          "name": "stderr",
          "text": [
            "<ipython-input-2-a0444838a714>:1: FutureWarning: DataFrame.fillna with 'method' is deprecated and will raise in a future version. Use obj.ffill() or obj.bfill() instead.\n",
            "  df_ffill = df.fillna(method='ffill')\n"
          ]
        }
      ]
    },
    {
      "cell_type": "markdown",
      "source": [
        "### Method 2: Using Replace Method"
      ],
      "metadata": {
        "id": "Q1UgqskO7fMO"
      }
    },
    {
      "cell_type": "code",
      "source": [
        "# Calculate the mean for specific columns\n",
        "age_mean = df['Age'].mean()\n",
        "salary_mean = df['Salary'].mean()\n",
        "\n",
        "# Use replace to substitute None/NaN values in 'Age' and 'Salary' columns with their respective means\n",
        "df_replaced = df.replace({\n",
        "    'Age': {None: age_mean},\n",
        "    'Salary': {None: salary_mean}\n",
        "})\n",
        "\n",
        "print(df_replaced)\n"
      ],
      "metadata": {
        "colab": {
          "base_uri": "https://localhost:8080/"
        },
        "id": "ucJVwAB67ePh",
        "outputId": "321e4cbe-6585-46aa-b8cd-d27b5379e6b4"
      },
      "execution_count": null,
      "outputs": [
        {
          "output_type": "stream",
          "name": "stdout",
          "text": [
            "        Name   Age           City   Salary\n",
            "0   Person_1  40.0         Boston  80000.0\n",
            "1   Person_2   NaN         Boston  50000.0\n",
            "2   Person_3  35.0         Boston  80000.0\n",
            "3   Person_4   NaN           None  60000.0\n",
            "4   Person_5   NaN    Los Angeles  50000.0\n",
            "5   Person_6  30.0       New York      NaN\n",
            "6   Person_7  35.0         Boston  70000.0\n",
            "7   Person_8  35.0  San Francisco  80000.0\n",
            "8   Person_9  35.0         Boston  70000.0\n",
            "9  Person_10   NaN  San Francisco  70000.0\n"
          ]
        }
      ]
    },
    {
      "cell_type": "markdown",
      "source": [
        "### Using Simple Imputer Method"
      ],
      "metadata": {
        "id": "5ZrzXMI17vD-"
      }
    },
    {
      "cell_type": "code",
      "source": [
        "from sklearn.impute import SimpleImputer\n",
        "\n",
        "imputer = SimpleImputer(strategy='mean')\n",
        "mode_imputer = SimpleImputer(strategy='most_frequent')\n",
        "df_imputed = df\n",
        "df_imputed[['Age', 'Salary']] = imputer.fit_transform(df[['Age', 'Salary']])\n",
        "df_imputed[['City']] = mode_imputer.fit_transform(df[['City']])\n",
        "\n",
        "print(\"DataFrame after imputing missing values with the mean:\")\n",
        "print(df_imputed)"
      ],
      "metadata": {
        "colab": {
          "base_uri": "https://localhost:8080/"
        },
        "id": "iFlk01_b7mbw",
        "outputId": "ceddd4f8-92ce-4c0d-998f-cf5d5d2f09d4"
      },
      "execution_count": null,
      "outputs": [
        {
          "output_type": "stream",
          "name": "stdout",
          "text": [
            "DataFrame after imputing missing values with the mean:\n",
            "        Name   Age           City        Salary\n",
            "0   Person_1  40.0         Boston  80000.000000\n",
            "1   Person_2  35.0         Boston  50000.000000\n",
            "2   Person_3  35.0         Boston  80000.000000\n",
            "3   Person_4  35.0           None  60000.000000\n",
            "4   Person_5  35.0    Los Angeles  50000.000000\n",
            "5   Person_6  30.0       New York  67777.777778\n",
            "6   Person_7  35.0         Boston  70000.000000\n",
            "7   Person_8  35.0  San Francisco  80000.000000\n",
            "8   Person_9  35.0         Boston  70000.000000\n",
            "9  Person_10  35.0  San Francisco  70000.000000\n"
          ]
        }
      ]
    },
    {
      "cell_type": "markdown",
      "source": [
        "### Using KNN Imputer Method"
      ],
      "metadata": {
        "id": "mlcpTXh58kvv"
      }
    },
    {
      "cell_type": "code",
      "source": [
        "from sklearn.impute import KNNImputer\n",
        "\n",
        "df_knn_imputed = df\n",
        "\n",
        "numerical_data = df_knn_imputed[['Age', 'Salary']]\n",
        "\n",
        "knn_imputer = KNNImputer(n_neighbors=3)\n",
        "\n",
        "df_knn_imputed[['Age', 'Salary']] = knn_imputer.fit_transform(numerical_data)\n",
        "\n",
        "print(\"DataFrame after applying KNN imputation:\")\n",
        "print(df_knn_imputed)"
      ],
      "metadata": {
        "colab": {
          "base_uri": "https://localhost:8080/"
        },
        "id": "8E3w2wsf79E7",
        "outputId": "6f8c5ff9-8af2-4f84-8d25-11bb4db37e56"
      },
      "execution_count": null,
      "outputs": [
        {
          "output_type": "stream",
          "name": "stdout",
          "text": [
            "DataFrame after applying KNN imputation:\n",
            "        Name   Age           City        Salary\n",
            "0   Person_1  40.0         Boston  80000.000000\n",
            "1   Person_2  35.0         Boston  50000.000000\n",
            "2   Person_3  35.0         Boston  80000.000000\n",
            "3   Person_4  35.0           None  60000.000000\n",
            "4   Person_5  35.0    Los Angeles  50000.000000\n",
            "5   Person_6  30.0       New York  67777.777778\n",
            "6   Person_7  35.0         Boston  70000.000000\n",
            "7   Person_8  35.0  San Francisco  80000.000000\n",
            "8   Person_9  35.0         Boston  70000.000000\n",
            "9  Person_10  35.0  San Francisco  70000.000000\n"
          ]
        }
      ]
    },
    {
      "cell_type": "markdown",
      "source": [
        "## Question 2: Fine-tuning BERT for Sentiment Analysis"
      ],
      "metadata": {
        "id": "NGUHwlGp9CYE"
      }
    },
    {
      "cell_type": "code",
      "source": [
        "!pip install huggingface transformers datasets -U -q"
      ],
      "metadata": {
        "colab": {
          "base_uri": "https://localhost:8080/"
        },
        "id": "fdemO9UA9PMz",
        "outputId": "b3d78fd5-b30f-4648-eb3d-50ac548b7913"
      },
      "execution_count": null,
      "outputs": [
        {
          "output_type": "stream",
          "name": "stdout",
          "text": [
            "\u001b[2K     \u001b[90m━━━━━━━━━━━━━━━━━━━━━━━━━━━━━━━━━━━━━━━━\u001b[0m \u001b[32m44.1/44.1 kB\u001b[0m \u001b[31m1.4 MB/s\u001b[0m eta \u001b[36m0:00:00\u001b[0m\n",
            "\u001b[2K   \u001b[90m━━━━━━━━━━━━━━━━━━━━━━━━━━━━━━━━━━━━━━━━\u001b[0m \u001b[32m10.0/10.0 MB\u001b[0m \u001b[31m45.1 MB/s\u001b[0m eta \u001b[36m0:00:00\u001b[0m\n",
            "\u001b[2K   \u001b[90m━━━━━━━━━━━━━━━━━━━━━━━━━━━━━━━━━━━━━━━━\u001b[0m \u001b[32m480.6/480.6 kB\u001b[0m \u001b[31m27.8 MB/s\u001b[0m eta \u001b[36m0:00:00\u001b[0m\n",
            "\u001b[2K   \u001b[90m━━━━━━━━━━━━━━━━━━━━━━━━━━━━━━━━━━━━━━━━\u001b[0m \u001b[32m116.3/116.3 kB\u001b[0m \u001b[31m4.9 MB/s\u001b[0m eta \u001b[36m0:00:00\u001b[0m\n",
            "\u001b[2K   \u001b[90m━━━━━━━━━━━━━━━━━━━━━━━━━━━━━━━━━━━━━━━━\u001b[0m \u001b[32m179.3/179.3 kB\u001b[0m \u001b[31m9.2 MB/s\u001b[0m eta \u001b[36m0:00:00\u001b[0m\n",
            "\u001b[2K   \u001b[90m━━━━━━━━━━━━━━━━━━━━━━━━━━━━━━━━━━━━━━━━\u001b[0m \u001b[32m134.8/134.8 kB\u001b[0m \u001b[31m4.6 MB/s\u001b[0m eta \u001b[36m0:00:00\u001b[0m\n",
            "\u001b[2K   \u001b[90m━━━━━━━━━━━━━━━━━━━━━━━━━━━━━━━━━━━━━━━━\u001b[0m \u001b[32m3.0/3.0 MB\u001b[0m \u001b[31m30.4 MB/s\u001b[0m eta \u001b[36m0:00:00\u001b[0m\n",
            "\u001b[2K   \u001b[90m━━━━━━━━━━━━━━━━━━━━━━━━━━━━━━━━━━━━━━━━\u001b[0m \u001b[32m194.1/194.1 kB\u001b[0m \u001b[31m11.0 MB/s\u001b[0m eta \u001b[36m0:00:00\u001b[0m\n",
            "\u001b[?25h\u001b[31mERROR: pip's dependency resolver does not currently take into account all the packages that are installed. This behaviour is the source of the following dependency conflicts.\n",
            "gcsfs 2024.10.0 requires fsspec==2024.10.0, but you have fsspec 2024.9.0 which is incompatible.\u001b[0m\u001b[31m\n",
            "\u001b[0m"
          ]
        }
      ]
    },
    {
      "cell_type": "code",
      "source": [
        "from datasets import load_dataset\n",
        "from transformers import BertTokenizer"
      ],
      "metadata": {
        "id": "-xWtqOdt8guq"
      },
      "execution_count": null,
      "outputs": []
    },
    {
      "cell_type": "markdown",
      "source": [
        "### Import Dataset and Libraries"
      ],
      "metadata": {
        "id": "LL9CmNhbAzwF"
      }
    },
    {
      "cell_type": "code",
      "source": [
        "dataset = load_dataset(\"Sp1786/multiclass-sentiment-analysis-dataset\", split='train[:500]')"
      ],
      "metadata": {
        "id": "P2Q2EDEh9OQ-"
      },
      "execution_count": null,
      "outputs": []
    },
    {
      "cell_type": "code",
      "source": [
        "tokenizer = BertTokenizer.from_pretrained('bert-base-cased')"
      ],
      "metadata": {
        "colab": {
          "base_uri": "https://localhost:8080/",
          "height": 145,
          "referenced_widgets": [
            "88e3e8e9398846ab8d7933cdae4f1726",
            "9f15476cde1741369422aa9a0555c44b",
            "3e7d4976241545c2bb4f9f6bb737fc55",
            "6c20576e4465493ebd404b4e7296b761",
            "98c95c684329449f9b11f995a1ffeb3a",
            "9a77483fabfa449cb1f71766a450ef34",
            "4941b4a4ceb1413483b5ad6e866e9775",
            "568ffa6453524a7fa28914fd1a9c065e",
            "1c5a77e4fc6b4df8a3e0c03cbd159935",
            "b8293d72cc444318958adabf575e939f",
            "4363a5314aec4421b8436e1d67ca4850",
            "5d927bbc8ac34878a99ad025a270936c",
            "8efeff8265734773be71c507687ea4d3",
            "61e0a18b9503457dae5315458ae90c88",
            "c91367ffa63744019977ec643a0072e7",
            "6e0002b7b43b417690710c0aae953e9c",
            "bfe1bdca40d14fb785d30709ee5f45f4",
            "a12f71b439f44425ac824ce7b162d865",
            "80de52aa4c474880aa7fc5ded1a3b833",
            "45ff358be78a4f7799859782c52f0b3e",
            "ac50c47ebc4c401d9073de26152fca9d",
            "4e3f8d25a0cf451db730159a882195ce",
            "f07e4e744d5741ec8e4e6e4738dee255",
            "fdcfc099cabc43b49c42001a88798519",
            "3a7617a2111941caac176dac27b648ad",
            "9ca14411a09847728db0abd335801cc3",
            "d473d74df4434e75ad5f43d559a1274e",
            "839a505e935c482c8eba2a7a7ad984ac",
            "cd62a773717e4113b4dedd3583d70418",
            "7e256de2b616457e82a7b20e41d604f0",
            "a33095a971844fcfa64e4036ac80e043",
            "f851ddac0c5c46d2a0b9373288af9657",
            "1bb88763dcb94458b20b7706ed6087ee",
            "eb562d2780c9404a902912c769d4fbc8",
            "eab7093c241b4770a4b8bb8c3e0a319a",
            "f764506079464b83a0fe18f0329a7d6e",
            "6b35033170064229a62b66069d3de506",
            "d0ea198020b3444e8716babb96c785c2",
            "a8935b8876d844f8ac5d8e28bed836f8",
            "d7cb4de32bbb423d8e5e2d6a932c5ea8",
            "4747dc757aee4a528e9ed89d04ec6b90",
            "30ee329a3d6146cbb03939b20cf78064",
            "dab1bae8466f4cbbb0a3b28a94c64248",
            "60958796ecac44d690ecffea17e5caaf"
          ]
        },
        "id": "WjVrXpnj9cpd",
        "outputId": "20cd9b96-6a2c-459f-e8f8-16d2214fa115"
      },
      "execution_count": null,
      "outputs": [
        {
          "output_type": "display_data",
          "data": {
            "text/plain": [
              "tokenizer_config.json:   0%|          | 0.00/49.0 [00:00<?, ?B/s]"
            ],
            "application/vnd.jupyter.widget-view+json": {
              "version_major": 2,
              "version_minor": 0,
              "model_id": "88e3e8e9398846ab8d7933cdae4f1726"
            }
          },
          "metadata": {}
        },
        {
          "output_type": "display_data",
          "data": {
            "text/plain": [
              "vocab.txt:   0%|          | 0.00/213k [00:00<?, ?B/s]"
            ],
            "application/vnd.jupyter.widget-view+json": {
              "version_major": 2,
              "version_minor": 0,
              "model_id": "5d927bbc8ac34878a99ad025a270936c"
            }
          },
          "metadata": {}
        },
        {
          "output_type": "display_data",
          "data": {
            "text/plain": [
              "tokenizer.json:   0%|          | 0.00/436k [00:00<?, ?B/s]"
            ],
            "application/vnd.jupyter.widget-view+json": {
              "version_major": 2,
              "version_minor": 0,
              "model_id": "f07e4e744d5741ec8e4e6e4738dee255"
            }
          },
          "metadata": {}
        },
        {
          "output_type": "display_data",
          "data": {
            "text/plain": [
              "config.json:   0%|          | 0.00/570 [00:00<?, ?B/s]"
            ],
            "application/vnd.jupyter.widget-view+json": {
              "version_major": 2,
              "version_minor": 0,
              "model_id": "eb562d2780c9404a902912c769d4fbc8"
            }
          },
          "metadata": {}
        }
      ]
    },
    {
      "cell_type": "code",
      "source": [
        "def tokenize_function(examples):\n",
        "  return tokenizer(examples['text'], padding='max_length', truncation=True)"
      ],
      "metadata": {
        "id": "A4d5-O6A9vhg"
      },
      "execution_count": null,
      "outputs": []
    },
    {
      "cell_type": "code",
      "source": [
        "tokenized_datasets = dataset.map(tokenize_function, batched = True)"
      ],
      "metadata": {
        "colab": {
          "base_uri": "https://localhost:8080/",
          "height": 49,
          "referenced_widgets": [
            "303c906729354d2f8f73dfc520938c18",
            "4293d5c7493a4e8fb473d51e8c6b1661",
            "b96611ade6ad45eca121d31bf4e8c1ca",
            "b8e925e161a2472398817dd42f65903c",
            "5d399877b6d347f2ac700239ef911083",
            "0ca4c3c86b1a4f1ca011445f672a115a",
            "8bb801a446cf424788dd9546981147e2",
            "31ff2ed7ff1f4a2492b8de95bce517c2",
            "a4fe2accdbc64d50878e9a78aed74352",
            "ead314165fb7493aa63acdb180fdce16",
            "cb36a91325e74938b0ab4e7af15e1d55"
          ]
        },
        "id": "NjItddgu-Lzn",
        "outputId": "1aabdf48-9d04-4600-88c9-9a4329fe4742"
      },
      "execution_count": null,
      "outputs": [
        {
          "output_type": "display_data",
          "data": {
            "text/plain": [
              "Map:   0%|          | 0/500 [00:00<?, ? examples/s]"
            ],
            "application/vnd.jupyter.widget-view+json": {
              "version_major": 2,
              "version_minor": 0,
              "model_id": "303c906729354d2f8f73dfc520938c18"
            }
          },
          "metadata": {}
        }
      ]
    },
    {
      "cell_type": "code",
      "source": [
        "train_test = tokenized_datasets.train_test_split(test_size = 0.2)\n",
        "train_df = train_test['train']\n",
        "test_df = train_test['test']"
      ],
      "metadata": {
        "id": "cEoy7G7k-WRz"
      },
      "execution_count": null,
      "outputs": []
    },
    {
      "cell_type": "markdown",
      "source": [
        "### Load Dataset"
      ],
      "metadata": {
        "id": "ShgNyfoYA4ir"
      }
    },
    {
      "cell_type": "code",
      "source": [
        "from torch.utils.data import DataLoader\n",
        "\n",
        "train_df_loader = DataLoader(train_df, shuffle=True, batch_size=8)\n",
        "test_df_loader = DataLoader(test_df, shuffle=True, batch_size=8)"
      ],
      "metadata": {
        "id": "15nQQQ-hAqB6"
      },
      "execution_count": null,
      "outputs": []
    },
    {
      "cell_type": "code",
      "source": [
        "from transformers import BertForSequenceClassification, AdamW, Trainer, TrainingArguments\n",
        "model = BertForSequenceClassification.from_pretrained('bert-base-uncased', num_labels=3)"
      ],
      "metadata": {
        "colab": {
          "base_uri": "https://localhost:8080/"
        },
        "id": "_4EAsNjVBHeA",
        "outputId": "d4366f9a-2169-443f-d98d-2d26ee5fae5a"
      },
      "execution_count": null,
      "outputs": [
        {
          "output_type": "stream",
          "name": "stderr",
          "text": [
            "Some weights of BertForSequenceClassification were not initialized from the model checkpoint at bert-base-uncased and are newly initialized: ['classifier.bias', 'classifier.weight']\n",
            "You should probably TRAIN this model on a down-stream task to be able to use it for predictions and inference.\n"
          ]
        }
      ]
    },
    {
      "cell_type": "code",
      "source": [
        "# Define training arguments\n",
        "training_args = TrainingArguments(\n",
        "output_dir='./results',\n",
        "evaluation_strategy=\"epoch\",\n",
        "learning_rate=2e-5,\n",
        "per_device_train_batch_size=8,\n",
        "per_device_eval_batch_size=8,\n",
        "num_train_epochs=1,\n",
        "weight_decay=0.01,\n",
        ")\n",
        "# Define Trainer with model, arguments, and datasets\n",
        "trainer = Trainer(\n",
        "model=model,\n",
        "args=training_args,\n",
        "train_dataset=train_df,\n",
        "eval_dataset=test_df\n",
        ")\n",
        "# Start training\n",
        "trainer.train()"
      ],
      "metadata": {
        "colab": {
          "base_uri": "https://localhost:8080/",
          "height": 463
        },
        "id": "l5CC7RP2BYOO",
        "outputId": "5d49638b-b50a-489b-d3fd-189635e47f8f"
      },
      "execution_count": null,
      "outputs": [
        {
          "output_type": "stream",
          "name": "stderr",
          "text": [
            "/usr/local/lib/python3.10/dist-packages/transformers/training_args.py:1568: FutureWarning: `evaluation_strategy` is deprecated and will be removed in version 4.46 of 🤗 Transformers. Use `eval_strategy` instead\n",
            "  warnings.warn(\n"
          ]
        },
        {
          "output_type": "error",
          "ename": "RuntimeError",
          "evalue": "CUDA error: device-side assert triggered\nCUDA kernel errors might be asynchronously reported at some other API call, so the stacktrace below might be incorrect.\nFor debugging consider passing CUDA_LAUNCH_BLOCKING=1\nCompile with `TORCH_USE_CUDA_DSA` to enable device-side assertions.\n",
          "traceback": [
            "\u001b[0;31m---------------------------------------------------------------------------\u001b[0m",
            "\u001b[0;31mRuntimeError\u001b[0m                              Traceback (most recent call last)",
            "\u001b[0;32m<ipython-input-39-d112a82bbd01>\u001b[0m in \u001b[0;36m<cell line: 12>\u001b[0;34m()\u001b[0m\n\u001b[1;32m     10\u001b[0m )\n\u001b[1;32m     11\u001b[0m \u001b[0;31m# Define Trainer with model, arguments, and datasets\u001b[0m\u001b[0;34m\u001b[0m\u001b[0;34m\u001b[0m\u001b[0m\n\u001b[0;32m---> 12\u001b[0;31m trainer = Trainer(\n\u001b[0m\u001b[1;32m     13\u001b[0m \u001b[0mmodel\u001b[0m\u001b[0;34m=\u001b[0m\u001b[0mmodel\u001b[0m\u001b[0;34m,\u001b[0m\u001b[0;34m\u001b[0m\u001b[0;34m\u001b[0m\u001b[0m\n\u001b[1;32m     14\u001b[0m \u001b[0margs\u001b[0m\u001b[0;34m=\u001b[0m\u001b[0mtraining_args\u001b[0m\u001b[0;34m,\u001b[0m\u001b[0;34m\u001b[0m\u001b[0;34m\u001b[0m\u001b[0m\n",
            "\u001b[0;32m/usr/local/lib/python3.10/dist-packages/transformers/utils/deprecation.py\u001b[0m in \u001b[0;36mwrapped_func\u001b[0;34m(*args, **kwargs)\u001b[0m\n\u001b[1;32m    163\u001b[0m                 \u001b[0mwarnings\u001b[0m\u001b[0;34m.\u001b[0m\u001b[0mwarn\u001b[0m\u001b[0;34m(\u001b[0m\u001b[0mmessage\u001b[0m\u001b[0;34m,\u001b[0m \u001b[0mFutureWarning\u001b[0m\u001b[0;34m,\u001b[0m \u001b[0mstacklevel\u001b[0m\u001b[0;34m=\u001b[0m\u001b[0;36m2\u001b[0m\u001b[0;34m)\u001b[0m\u001b[0;34m\u001b[0m\u001b[0;34m\u001b[0m\u001b[0m\n\u001b[1;32m    164\u001b[0m \u001b[0;34m\u001b[0m\u001b[0m\n\u001b[0;32m--> 165\u001b[0;31m             \u001b[0;32mreturn\u001b[0m \u001b[0mfunc\u001b[0m\u001b[0;34m(\u001b[0m\u001b[0;34m*\u001b[0m\u001b[0margs\u001b[0m\u001b[0;34m,\u001b[0m \u001b[0;34m**\u001b[0m\u001b[0mkwargs\u001b[0m\u001b[0;34m)\u001b[0m\u001b[0;34m\u001b[0m\u001b[0;34m\u001b[0m\u001b[0m\n\u001b[0m\u001b[1;32m    166\u001b[0m \u001b[0;34m\u001b[0m\u001b[0m\n\u001b[1;32m    167\u001b[0m         \u001b[0;32mreturn\u001b[0m \u001b[0mwrapped_func\u001b[0m\u001b[0;34m\u001b[0m\u001b[0;34m\u001b[0m\u001b[0m\n",
            "\u001b[0;32m/usr/local/lib/python3.10/dist-packages/transformers/trainer.py\u001b[0m in \u001b[0;36m__init__\u001b[0;34m(self, model, args, data_collator, train_dataset, eval_dataset, processing_class, model_init, compute_loss_func, compute_metrics, callbacks, optimizers, preprocess_logits_for_metrics)\u001b[0m\n\u001b[1;32m    422\u001b[0m         \u001b[0mself\u001b[0m\u001b[0;34m.\u001b[0m\u001b[0mcompute_loss_func\u001b[0m \u001b[0;34m=\u001b[0m \u001b[0mcompute_loss_func\u001b[0m\u001b[0;34m\u001b[0m\u001b[0;34m\u001b[0m\u001b[0m\n\u001b[1;32m    423\u001b[0m         \u001b[0;31m# Seed must be set before instantiating the model when using model\u001b[0m\u001b[0;34m\u001b[0m\u001b[0;34m\u001b[0m\u001b[0m\n\u001b[0;32m--> 424\u001b[0;31m         \u001b[0menable_full_determinism\u001b[0m\u001b[0;34m(\u001b[0m\u001b[0mself\u001b[0m\u001b[0;34m.\u001b[0m\u001b[0margs\u001b[0m\u001b[0;34m.\u001b[0m\u001b[0mseed\u001b[0m\u001b[0;34m)\u001b[0m \u001b[0;32mif\u001b[0m \u001b[0mself\u001b[0m\u001b[0;34m.\u001b[0m\u001b[0margs\u001b[0m\u001b[0;34m.\u001b[0m\u001b[0mfull_determinism\u001b[0m \u001b[0;32melse\u001b[0m \u001b[0mset_seed\u001b[0m\u001b[0;34m(\u001b[0m\u001b[0mself\u001b[0m\u001b[0;34m.\u001b[0m\u001b[0margs\u001b[0m\u001b[0;34m.\u001b[0m\u001b[0mseed\u001b[0m\u001b[0;34m)\u001b[0m\u001b[0;34m\u001b[0m\u001b[0;34m\u001b[0m\u001b[0m\n\u001b[0m\u001b[1;32m    425\u001b[0m \u001b[0;34m\u001b[0m\u001b[0m\n\u001b[1;32m    426\u001b[0m         \u001b[0mself\u001b[0m\u001b[0;34m.\u001b[0m\u001b[0mhp_name\u001b[0m \u001b[0;34m=\u001b[0m \u001b[0;32mNone\u001b[0m\u001b[0;34m\u001b[0m\u001b[0;34m\u001b[0m\u001b[0m\n",
            "\u001b[0;32m/usr/local/lib/python3.10/dist-packages/transformers/trainer_utils.py\u001b[0m in \u001b[0;36mset_seed\u001b[0;34m(seed, deterministic)\u001b[0m\n\u001b[1;32m    103\u001b[0m     \u001b[0mnp\u001b[0m\u001b[0;34m.\u001b[0m\u001b[0mrandom\u001b[0m\u001b[0;34m.\u001b[0m\u001b[0mseed\u001b[0m\u001b[0;34m(\u001b[0m\u001b[0mseed\u001b[0m\u001b[0;34m)\u001b[0m\u001b[0;34m\u001b[0m\u001b[0;34m\u001b[0m\u001b[0m\n\u001b[1;32m    104\u001b[0m     \u001b[0;32mif\u001b[0m \u001b[0mis_torch_available\u001b[0m\u001b[0;34m(\u001b[0m\u001b[0;34m)\u001b[0m\u001b[0;34m:\u001b[0m\u001b[0;34m\u001b[0m\u001b[0;34m\u001b[0m\u001b[0m\n\u001b[0;32m--> 105\u001b[0;31m         \u001b[0mtorch\u001b[0m\u001b[0;34m.\u001b[0m\u001b[0mmanual_seed\u001b[0m\u001b[0;34m(\u001b[0m\u001b[0mseed\u001b[0m\u001b[0;34m)\u001b[0m\u001b[0;34m\u001b[0m\u001b[0;34m\u001b[0m\u001b[0m\n\u001b[0m\u001b[1;32m    106\u001b[0m         \u001b[0mtorch\u001b[0m\u001b[0;34m.\u001b[0m\u001b[0mcuda\u001b[0m\u001b[0;34m.\u001b[0m\u001b[0mmanual_seed_all\u001b[0m\u001b[0;34m(\u001b[0m\u001b[0mseed\u001b[0m\u001b[0;34m)\u001b[0m\u001b[0;34m\u001b[0m\u001b[0;34m\u001b[0m\u001b[0m\n\u001b[1;32m    107\u001b[0m         \u001b[0;31m# ^^ safe to call this function even if cuda is not available\u001b[0m\u001b[0;34m\u001b[0m\u001b[0;34m\u001b[0m\u001b[0m\n",
            "\u001b[0;32m/usr/local/lib/python3.10/dist-packages/torch/_compile.py\u001b[0m in \u001b[0;36minner\u001b[0;34m(*args, **kwargs)\u001b[0m\n\u001b[1;32m     30\u001b[0m                 \u001b[0mfn\u001b[0m\u001b[0;34m.\u001b[0m\u001b[0m__dynamo_disable\u001b[0m \u001b[0;34m=\u001b[0m \u001b[0mdisable_fn\u001b[0m\u001b[0;34m\u001b[0m\u001b[0;34m\u001b[0m\u001b[0m\n\u001b[1;32m     31\u001b[0m \u001b[0;34m\u001b[0m\u001b[0m\n\u001b[0;32m---> 32\u001b[0;31m             \u001b[0;32mreturn\u001b[0m \u001b[0mdisable_fn\u001b[0m\u001b[0;34m(\u001b[0m\u001b[0;34m*\u001b[0m\u001b[0margs\u001b[0m\u001b[0;34m,\u001b[0m \u001b[0;34m**\u001b[0m\u001b[0mkwargs\u001b[0m\u001b[0;34m)\u001b[0m\u001b[0;34m\u001b[0m\u001b[0;34m\u001b[0m\u001b[0m\n\u001b[0m\u001b[1;32m     33\u001b[0m \u001b[0;34m\u001b[0m\u001b[0m\n\u001b[1;32m     34\u001b[0m         \u001b[0;32mreturn\u001b[0m \u001b[0minner\u001b[0m\u001b[0;34m\u001b[0m\u001b[0;34m\u001b[0m\u001b[0m\n",
            "\u001b[0;32m/usr/local/lib/python3.10/dist-packages/torch/_dynamo/eval_frame.py\u001b[0m in \u001b[0;36m_fn\u001b[0;34m(*args, **kwargs)\u001b[0m\n\u001b[1;32m    630\u001b[0m             \u001b[0mprior\u001b[0m \u001b[0;34m=\u001b[0m \u001b[0m_maybe_set_eval_frame\u001b[0m\u001b[0;34m(\u001b[0m\u001b[0mcallback\u001b[0m\u001b[0;34m)\u001b[0m\u001b[0;34m\u001b[0m\u001b[0;34m\u001b[0m\u001b[0m\n\u001b[1;32m    631\u001b[0m             \u001b[0;32mtry\u001b[0m\u001b[0;34m:\u001b[0m\u001b[0;34m\u001b[0m\u001b[0;34m\u001b[0m\u001b[0m\n\u001b[0;32m--> 632\u001b[0;31m                 \u001b[0;32mreturn\u001b[0m \u001b[0mfn\u001b[0m\u001b[0;34m(\u001b[0m\u001b[0;34m*\u001b[0m\u001b[0margs\u001b[0m\u001b[0;34m,\u001b[0m \u001b[0;34m**\u001b[0m\u001b[0mkwargs\u001b[0m\u001b[0;34m)\u001b[0m\u001b[0;34m\u001b[0m\u001b[0;34m\u001b[0m\u001b[0m\n\u001b[0m\u001b[1;32m    633\u001b[0m             \u001b[0;32mfinally\u001b[0m\u001b[0;34m:\u001b[0m\u001b[0;34m\u001b[0m\u001b[0;34m\u001b[0m\u001b[0m\n\u001b[1;32m    634\u001b[0m                 \u001b[0m_maybe_set_eval_frame\u001b[0m\u001b[0;34m(\u001b[0m\u001b[0mprior\u001b[0m\u001b[0;34m)\u001b[0m\u001b[0;34m\u001b[0m\u001b[0;34m\u001b[0m\u001b[0m\n",
            "\u001b[0;32m/usr/local/lib/python3.10/dist-packages/torch/random.py\u001b[0m in \u001b[0;36mmanual_seed\u001b[0;34m(seed)\u001b[0m\n\u001b[1;32m     44\u001b[0m \u001b[0;34m\u001b[0m\u001b[0m\n\u001b[1;32m     45\u001b[0m     \u001b[0;32mif\u001b[0m \u001b[0;32mnot\u001b[0m \u001b[0mtorch\u001b[0m\u001b[0;34m.\u001b[0m\u001b[0mcuda\u001b[0m\u001b[0;34m.\u001b[0m\u001b[0m_is_in_bad_fork\u001b[0m\u001b[0;34m(\u001b[0m\u001b[0;34m)\u001b[0m\u001b[0;34m:\u001b[0m\u001b[0;34m\u001b[0m\u001b[0;34m\u001b[0m\u001b[0m\n\u001b[0;32m---> 46\u001b[0;31m         \u001b[0mtorch\u001b[0m\u001b[0;34m.\u001b[0m\u001b[0mcuda\u001b[0m\u001b[0;34m.\u001b[0m\u001b[0mmanual_seed_all\u001b[0m\u001b[0;34m(\u001b[0m\u001b[0mseed\u001b[0m\u001b[0;34m)\u001b[0m\u001b[0;34m\u001b[0m\u001b[0;34m\u001b[0m\u001b[0m\n\u001b[0m\u001b[1;32m     47\u001b[0m \u001b[0;34m\u001b[0m\u001b[0m\n\u001b[1;32m     48\u001b[0m     \u001b[0;32mimport\u001b[0m \u001b[0mtorch\u001b[0m\u001b[0;34m.\u001b[0m\u001b[0mmps\u001b[0m\u001b[0;34m\u001b[0m\u001b[0;34m\u001b[0m\u001b[0m\n",
            "\u001b[0;32m/usr/local/lib/python3.10/dist-packages/torch/cuda/random.py\u001b[0m in \u001b[0;36mmanual_seed_all\u001b[0;34m(seed)\u001b[0m\n\u001b[1;32m    127\u001b[0m             \u001b[0mdefault_generator\u001b[0m\u001b[0;34m.\u001b[0m\u001b[0mmanual_seed\u001b[0m\u001b[0;34m(\u001b[0m\u001b[0mseed\u001b[0m\u001b[0;34m)\u001b[0m\u001b[0;34m\u001b[0m\u001b[0;34m\u001b[0m\u001b[0m\n\u001b[1;32m    128\u001b[0m \u001b[0;34m\u001b[0m\u001b[0m\n\u001b[0;32m--> 129\u001b[0;31m     \u001b[0m_lazy_call\u001b[0m\u001b[0;34m(\u001b[0m\u001b[0mcb\u001b[0m\u001b[0;34m,\u001b[0m \u001b[0mseed_all\u001b[0m\u001b[0;34m=\u001b[0m\u001b[0;32mTrue\u001b[0m\u001b[0;34m)\u001b[0m\u001b[0;34m\u001b[0m\u001b[0;34m\u001b[0m\u001b[0m\n\u001b[0m\u001b[1;32m    130\u001b[0m \u001b[0;34m\u001b[0m\u001b[0m\n\u001b[1;32m    131\u001b[0m \u001b[0;34m\u001b[0m\u001b[0m\n",
            "\u001b[0;32m/usr/local/lib/python3.10/dist-packages/torch/cuda/__init__.py\u001b[0m in \u001b[0;36m_lazy_call\u001b[0;34m(callable, **kwargs)\u001b[0m\n\u001b[1;32m    247\u001b[0m \u001b[0;32mdef\u001b[0m \u001b[0m_lazy_call\u001b[0m\u001b[0;34m(\u001b[0m\u001b[0mcallable\u001b[0m\u001b[0;34m,\u001b[0m \u001b[0;34m**\u001b[0m\u001b[0mkwargs\u001b[0m\u001b[0;34m)\u001b[0m\u001b[0;34m:\u001b[0m\u001b[0;34m\u001b[0m\u001b[0;34m\u001b[0m\u001b[0m\n\u001b[1;32m    248\u001b[0m     \u001b[0;32mif\u001b[0m \u001b[0mis_initialized\u001b[0m\u001b[0;34m(\u001b[0m\u001b[0;34m)\u001b[0m\u001b[0;34m:\u001b[0m\u001b[0;34m\u001b[0m\u001b[0;34m\u001b[0m\u001b[0m\n\u001b[0;32m--> 249\u001b[0;31m         \u001b[0mcallable\u001b[0m\u001b[0;34m(\u001b[0m\u001b[0;34m)\u001b[0m\u001b[0;34m\u001b[0m\u001b[0;34m\u001b[0m\u001b[0m\n\u001b[0m\u001b[1;32m    250\u001b[0m     \u001b[0;32melse\u001b[0m\u001b[0;34m:\u001b[0m\u001b[0;34m\u001b[0m\u001b[0;34m\u001b[0m\u001b[0m\n\u001b[1;32m    251\u001b[0m         \u001b[0;31m# TODO(torch_deploy): this accesses linecache, which attempts to read the\u001b[0m\u001b[0;34m\u001b[0m\u001b[0;34m\u001b[0m\u001b[0m\n",
            "\u001b[0;32m/usr/local/lib/python3.10/dist-packages/torch/cuda/random.py\u001b[0m in \u001b[0;36mcb\u001b[0;34m()\u001b[0m\n\u001b[1;32m    125\u001b[0m         \u001b[0;32mfor\u001b[0m \u001b[0mi\u001b[0m \u001b[0;32min\u001b[0m \u001b[0mrange\u001b[0m\u001b[0;34m(\u001b[0m\u001b[0mdevice_count\u001b[0m\u001b[0;34m(\u001b[0m\u001b[0;34m)\u001b[0m\u001b[0;34m)\u001b[0m\u001b[0;34m:\u001b[0m\u001b[0;34m\u001b[0m\u001b[0;34m\u001b[0m\u001b[0m\n\u001b[1;32m    126\u001b[0m             \u001b[0mdefault_generator\u001b[0m \u001b[0;34m=\u001b[0m \u001b[0mtorch\u001b[0m\u001b[0;34m.\u001b[0m\u001b[0mcuda\u001b[0m\u001b[0;34m.\u001b[0m\u001b[0mdefault_generators\u001b[0m\u001b[0;34m[\u001b[0m\u001b[0mi\u001b[0m\u001b[0;34m]\u001b[0m\u001b[0;34m\u001b[0m\u001b[0;34m\u001b[0m\u001b[0m\n\u001b[0;32m--> 127\u001b[0;31m             \u001b[0mdefault_generator\u001b[0m\u001b[0;34m.\u001b[0m\u001b[0mmanual_seed\u001b[0m\u001b[0;34m(\u001b[0m\u001b[0mseed\u001b[0m\u001b[0;34m)\u001b[0m\u001b[0;34m\u001b[0m\u001b[0;34m\u001b[0m\u001b[0m\n\u001b[0m\u001b[1;32m    128\u001b[0m \u001b[0;34m\u001b[0m\u001b[0m\n\u001b[1;32m    129\u001b[0m     \u001b[0m_lazy_call\u001b[0m\u001b[0;34m(\u001b[0m\u001b[0mcb\u001b[0m\u001b[0;34m,\u001b[0m \u001b[0mseed_all\u001b[0m\u001b[0;34m=\u001b[0m\u001b[0;32mTrue\u001b[0m\u001b[0;34m)\u001b[0m\u001b[0;34m\u001b[0m\u001b[0;34m\u001b[0m\u001b[0m\n",
            "\u001b[0;31mRuntimeError\u001b[0m: CUDA error: device-side assert triggered\nCUDA kernel errors might be asynchronously reported at some other API call, so the stacktrace below might be incorrect.\nFor debugging consider passing CUDA_LAUNCH_BLOCKING=1\nCompile with `TORCH_USE_CUDA_DSA` to enable device-side assertions.\n"
          ]
        }
      ]
    },
    {
      "cell_type": "code",
      "source": [
        "metrics = trainer.evaluate()\n",
        "print(metrics)"
      ],
      "metadata": {
        "colab": {
          "base_uri": "https://localhost:8080/",
          "height": 54
        },
        "id": "gW8wLBmgBqxu",
        "outputId": "c2496d75-db1b-4e33-c249-36de06c1cb7e"
      },
      "execution_count": null,
      "outputs": [
        {
          "output_type": "display_data",
          "data": {
            "text/plain": [
              "<IPython.core.display.HTML object>"
            ],
            "text/html": [
              "\n",
              "    <div>\n",
              "      \n",
              "      <progress value='13' max='13' style='width:300px; height:20px; vertical-align: middle;'></progress>\n",
              "      [13/13 00:02]\n",
              "    </div>\n",
              "    "
            ]
          },
          "metadata": {}
        },
        {
          "output_type": "stream",
          "name": "stdout",
          "text": [
            "{'eval_loss': 1.124460220336914, 'eval_runtime': 2.9454, 'eval_samples_per_second': 33.951, 'eval_steps_per_second': 4.414, 'epoch': 1.0}\n"
          ]
        }
      ]
    },
    {
      "cell_type": "code",
      "source": [
        "predictions = trainer.predict(test_df)\n"
      ],
      "metadata": {
        "colab": {
          "base_uri": "https://localhost:8080/",
          "height": 17
        },
        "id": "fksURYv9FR_g",
        "outputId": "93d7d56f-2b42-436b-baea-d442802a72a4"
      },
      "execution_count": null,
      "outputs": [
        {
          "output_type": "display_data",
          "data": {
            "text/plain": [
              "<IPython.core.display.HTML object>"
            ],
            "text/html": []
          },
          "metadata": {}
        }
      ]
    },
    {
      "cell_type": "code",
      "source": [
        "test_df['text']"
      ],
      "metadata": {
        "colab": {
          "base_uri": "https://localhost:8080/"
        },
        "id": "FRlm9QRiHe84",
        "outputId": "d9184263-55c3-4275-b349-2080c632b6b9"
      },
      "execution_count": null,
      "outputs": [
        {
          "output_type": "execute_result",
          "data": {
            "text/plain": [
              "['_Griffin I spent yesterday nursing one of those, only replace Vodka with wine, and Japanese with posh dinner!',\n",
              " ' that`s cool. Well if you need any more help regarding that, Google is your friend. Plenty of info on that!',\n",
              " ' glad to hear it`s good bank holiday weather down there to',\n",
              " ' yeah... it`s gonna be a long while for me.',\n",
              " 'is chilling at home',\n",
              " \"The program is very good on my old phone(galaxy note 4), but notifications don't work on the new one(redmi note 8 pro). I hope you will fix them. Thanks\",\n",
              " ' Could get  to do the honours?',\n",
              " 'hello new maccy, welcome to your new home',\n",
              " 'had a great night with friends',\n",
              " 'On my way to dazzle bar!!',\n",
              " \"Do you have plans to support Office 365 and outlook calendars directly.   Currently, I am syncing my calendars to Google but it's not a pleasant experience as the sync keeps failing on one or other calendar.    Due to this reason, I am stopping sectograph and moving to outlook widget :-(  For those who are on google calendar, it's an excellent app and the developer support is awesome.   I'm rating 4 only for the dependency on google calendar.\",\n",
              " 'Every time I pay off my library fine, I get a new one.  I`m a bad patron',\n",
              " '  ah you say the nicest things',\n",
              " 'Watching twilight and eating potato salad.',\n",
              " ' Milk, Gran Torino, Bolt, Bride Wars, New In Town (yeah I got through a few...) **** I love longhaul',\n",
              " \"This task app is the only decent option I've found for combining tasks and calendar events into one scrollable widget. Tasks can be set to repeat from the date completed, which is essential for things like haircuts and cleaning schedules. Unfortunately, neither the app nor the widget (which is especially important) has many customization options. One option I would like, in particular, is the ability to hide the widget's title bar. Obviously color and display options would be nice, too.\",\n",
              " ' wow, I see a Mr.B obsession in you!!',\n",
              " \"Using Google Pixel 2 and paid for full version...sometimes the day on the calendar doesn't update. I dont want to have to restart my phone everday. A workaround would be to press the refresh button on the calendar, but i dont like having to do that every day.\",\n",
              " 'Es muy útil para mantener las aplicaciones del celular cerradas mientras trabajas.',\n",
              " 'Up and around a little earlier than I wanted to be (phone rang 5:30 AM).  Exercise is a good way to start the day, right?',\n",
              " 'Loving Lego Indiana Jones. A game-researching aracheologist`s dream',\n",
              " 'he switches off his cellphone!! huaaaaa, i cant sleep  buzz me bebe..',\n",
              " \" hilarious. so if she acts up, all you have to do is say 1 little word...'gummed up' grosses me out; hub says it 2 torment\",\n",
              " 'Dam only 5 votes  not gonna win anything now',\n",
              " 'Just snuck out my window.. Now im laying on my roof looking at the stars. Its a nice night out tonight.',\n",
              " 'Nice planner but you shouldn\\'t have to pay to have \"week\"view. I may not purchase now.',\n",
              " \"Best among productivity.... I am going to buy full version soon..... But it worked for 2 days and then it crashes on opening. Sent two mail to your team regarding this but haven't received any update I have tried everything whether on internet or on your Twitter response. I am planning to purchase this app, but it's not doing well I reinstalled almost 3 times but same worked for 1 day and again same problem. Model no: CPH1859 Phone: OPPO Realme 1\",\n",
              " 'Booo. Finally I could get back on here. My Internet went out',\n",
              " 'All of a sudden I`m craving broccoli and cheese soup really bad... my mouth is watering envisioning a bread bowl in my head...',\n",
              " 'u ever have a friend that u just wonder why are we friends? i know what you get from me but i`m questioning what i`m getting from u.',\n",
              " ' hahahaha. Nahh sowwieee.  I had to git a shirt to match dez sneakerz nd idk if they da same color. Aghhh =O lol',\n",
              " 'Cooking microwave pizzas, yummy',\n",
              " 'haha so bored...but happy mothers day!',\n",
              " ' lol ! You take David lah ! I want Danny  not tom !',\n",
              " ' Good lord, man.   I recommend the Dark & Stormy at Casablanca.',\n",
              " 'feeling bad for Daisy, she cries in every episode       i watch waaaaay too much tv',\n",
              " 'App is good but it could have better',\n",
              " 'complicated',\n",
              " ' Years ago, my brother saw you and Bruce walking on the sidewalk in Sanibel. I used to live on Pine Is. Great place',\n",
              " 'better go and put my clothes on guys.. even if P.J`s are warm and moveable',\n",
              " 'I`m a giver, and life rewards the takers.  We givers make takers possible, but we get no appreciation for what we do--we just get taken.',\n",
              " 'Got people don`t let me skip sci pratical becos skola is impt and dont waste my parents money.  Nt fair.',\n",
              " ' i lurveeeeee you',\n",
              " \"_kelly Bummed about the maxi dresses!  I think they`re so cute for summer but I`m only 5`4'!\",\n",
              " 'Has Ruth today',\n",
              " 'I got me a little too much sun today',\n",
              " 'feeling sick. headache. bored. tireddd',\n",
              " ' morning  hope u r well.. i`m off to bed soon!',\n",
              " ' I need to do some more post but I don`t have time on this tour  ........... Apologies to all my supporters.',\n",
              " '@ kbal24 I am sorry that you are feeling that way.',\n",
              " ' I know exactly what you mean. My treats are more `awhile` than `once in`',\n",
              " 'Oh yeah, MY LAPTOP IS FIXED. Shame my internet is still **** and slow.',\n",
              " ' oh, sorry to hear about this too  sad',\n",
              " '💩👎💩👎💩👎💩 👻☠️ IMPOSSIBLE TO DELETE LIST, OR SUB LISTS (TABS)!!! ☠️👻 REGRET v2.0 UPGRADE!! 👎💩👎💩👎💩👎💩👎💩👎💩👎💩👎💩👎💩👎💩👎💩👎💩👎💩👎💩👎💩👎💩👎',\n",
              " 'aww my son gave me a purple g shock for mother`s day',\n",
              " 'gosh im bored. its early..n i wanna go..to sleeeepp why am i at work?  *kay<3*',\n",
              " ' MANDY!!!  IT WON`T LET ME VOTE  I WANT HER TO WIN BUT I CAN`T HELP, I AM GONNA JUMP OFF A BRIDGE (KIDDING) BUT THIS SUX',\n",
              " '@_missrachel how much?',\n",
              " 'Desktop version is better',\n",
              " 'the fact my room is so hot is making me feel sick',\n",
              " ' Dude you are awesome',\n",
              " ' I know! I can barely believe it`s almost over! Thanks for the review, lovely!',\n",
              " 'Love it. Exactly what I was looking for. Nice looking, very functional, and it can go on my homescreen with check boxes. 10/10',\n",
              " '6:29 pm - ok, let`s go now through #bowman #strategicClock but first.. a break :-0 aargh.. tired',\n",
              " 'Just realized you can get arrested for public disturbance. oh well i`ll take my chances.',\n",
              " 'Heading to the U of Utah hospital. Have a great day everyone',\n",
              " '  i would love to come visit you in Korea.. next flight that is under 100 i am there!',\n",
              " 'I can`t upload a picture. Everything`s too big',\n",
              " 'Ive got the greatest boyfriend in the world. I love him so so much.',\n",
              " 'In math class now, about to shoot myself because its so boring.',\n",
              " \"Pros: this app is very similar to the functionality of Wunderlist and adds features I wanted. Free version is fully functional except for the limitation of 9 lists Cons: Some of the widget buttons are small and I am not a fan of subscription services for premium features (I would pay a one-time fee, even for each upgrade, but i absolutely won't subscribe)\",\n",
              " 'Ok, first assesment of the #kindle2 ...it fucking rocks!!!',\n",
              " 'no watching The Night At The Museum. Getting Really Good',\n",
              " ' http://twitpic.com/5rylt - ur so lucky! there, the stage its so close of theem! here not  i think we`re dangerous (?',\n",
              " 'Very nice app',\n",
              " \"It really helped dude, I have online school and since there is no teacher to scream at me I delay my work but never seem to do it. But thanks to this app I'm planning everything and I'm slowly getting back in track. Recommend to all students out there\",\n",
              " 'has made a decision and will stick to it although I`m really not sure it`s the right one',\n",
              " \"Been invited to join a group in Second Life called 'Ballistic Autistics'.  Cute name.\",\n",
              " 'Is getting ready for work... Working all weekend',\n",
              " 'Work on notifications... Its the best though am happy',\n",
              " ' Where DO you get all those wonderful toys?',\n",
              " 'thought id tanned after an hour in the sun, i was wrong....i`ve just burnt',\n",
              " 'NOOOOOOO my DVR just died and I was only half way through the EA presser. Hate you Time Warner',\n",
              " \"Great app. I would rate it a 5 but there's an error where my completed tasks becomes unchecked constantly causing it to keep on becoming an unfinished task and it's annoying.\",\n",
              " ' Europe sounds gr8! Will finish my exam on Teus and then we`ll  talk about it',\n",
              " 'I have used Wunderlist for about 5 years, but now its being retired. I tested and tried 10+ apps since then, and none were that great. I stumbled upon TickTick, and wish I had started using it years ago. TickTick has much greater customization options, and does a great job of incentivizing completion of tasks via feedback. It has made my life much easier. I do wish the widget had options to change how it appears, the \"to dos\" do not have breaks between them.',\n",
              " 'Exactly what i was looking for, a way to set up and visualize my weekly routine',\n",
              " \"Forcing to open Microsoft account even when we are providing mobile number or another email account I don't understand if it is very good app and useful then I will open account\",\n",
              " 'The app is great, and I´ve started to use it rather than wunderlist. Just 3 stars because I don´t think the My Day section makes sense. Tasks flagged as to be done today, in others lists, should appear in My Day, as those are the tasks for Today, seems My Day only considers tasks added specifically to that list, and that makes it confusing and redundant, as in Planned, the right logic is applied, where you see planned tasks for today and ahead. Shouldn´t the same logic apply to the My Day window? Or I am doing something wrong?',\n",
              " 'My cucumber has gone limp',\n",
              " 'I actually use this app for practicing flute and it helps so much. I have tried using normal timers but i usually end up and just pause it saying ill come back later and never do it but with this i can set a timer and it keeps me off my other phone apps and keeps me seated since i cant really pause the timer. And its also really nice to see my progress throughout the week for practicing with all the trees that ive planted. Overall really nice app, i highly recommend it!!!',\n",
              " ' Heehee, how did you know who I was talking about?',\n",
              " ' was jst out there wednesday',\n",
              " \"Some features widely requested and very useful are missing: - Task with due date should automatically appear on 'My day' - Forward email to Microsoft ToDo address and automatically add a task - Sort task by modification date, the ideia is to have on top the oldest task that I've updated - Very important feature, COMMENTS, ability to make comment on the task with timestamp - Tags, must have tags to more easily search and filter Please improved Microsoft ToDo with this features\",\n",
              " 'installed the new modem which is meant to run 5 times faster than the old one and its slower  what the hell? gah slow internet kills me',\n",
              " 'App looks great. UI is wonderful and the feature it have , they all are useful. Only problem because of which I uninstalled the app was simple and basic features like recurring task creations are made premium. Switching to tick tick for the same reason.',\n",
              " ' hope u did alright on the final',\n",
              " ' agreed',\n",
              " 'Now i`m fully awake',\n",
              " ' morning David have a safe journey and enjoy your time in the states  ****']"
            ]
          },
          "metadata": {},
          "execution_count": 56
        }
      ]
    },
    {
      "cell_type": "code",
      "source": [
        "import numpy as np"
      ],
      "metadata": {
        "id": "YmIwtRJ2G44S"
      },
      "execution_count": null,
      "outputs": []
    },
    {
      "cell_type": "code",
      "source": [
        "from scipy.special import softmax\n",
        "import numpy as np\n",
        "\n",
        "labels = ['positive', 'neutral', 'negative']\n",
        "\n",
        "for res in predictions[0]:\n",
        "    # Ensure res is a NumPy array of floats\n",
        "    res = np.array(res, dtype=np.float32)\n",
        "    probs = softmax(res)\n",
        "    predicted_class = np.argmax(probs)\n",
        "\n",
        "    if predicted_class < len(labels):\n",
        "        print(\"Predicted sentiment:\", labels[predicted_class])\n",
        "    else:\n",
        "        print(\"Error: predicted class index out of range\")\n"
      ],
      "metadata": {
        "colab": {
          "base_uri": "https://localhost:8080/"
        },
        "id": "hEtHI_4OFZBX",
        "outputId": "8dc6fa57-a96b-450b-9391-825934819f8b"
      },
      "execution_count": null,
      "outputs": [
        {
          "output_type": "stream",
          "name": "stdout",
          "text": [
            "Predicted sentiment: neutral\n",
            "Predicted sentiment: neutral\n",
            "Predicted sentiment: neutral\n",
            "Predicted sentiment: neutral\n",
            "Predicted sentiment: neutral\n",
            "Predicted sentiment: neutral\n",
            "Predicted sentiment: neutral\n",
            "Predicted sentiment: neutral\n",
            "Predicted sentiment: neutral\n",
            "Predicted sentiment: neutral\n",
            "Predicted sentiment: neutral\n",
            "Predicted sentiment: neutral\n",
            "Predicted sentiment: positive\n",
            "Predicted sentiment: neutral\n",
            "Predicted sentiment: neutral\n",
            "Predicted sentiment: neutral\n",
            "Predicted sentiment: neutral\n",
            "Predicted sentiment: neutral\n",
            "Predicted sentiment: neutral\n",
            "Predicted sentiment: neutral\n",
            "Predicted sentiment: neutral\n",
            "Predicted sentiment: neutral\n",
            "Predicted sentiment: neutral\n",
            "Predicted sentiment: neutral\n",
            "Predicted sentiment: neutral\n",
            "Predicted sentiment: neutral\n",
            "Predicted sentiment: neutral\n",
            "Predicted sentiment: neutral\n",
            "Predicted sentiment: neutral\n",
            "Predicted sentiment: neutral\n",
            "Predicted sentiment: neutral\n",
            "Predicted sentiment: neutral\n",
            "Predicted sentiment: neutral\n",
            "Predicted sentiment: neutral\n",
            "Predicted sentiment: neutral\n",
            "Predicted sentiment: neutral\n",
            "Predicted sentiment: neutral\n",
            "Predicted sentiment: negative\n",
            "Predicted sentiment: neutral\n",
            "Predicted sentiment: neutral\n",
            "Predicted sentiment: neutral\n",
            "Predicted sentiment: neutral\n",
            "Predicted sentiment: neutral\n",
            "Predicted sentiment: neutral\n",
            "Predicted sentiment: neutral\n",
            "Predicted sentiment: neutral\n",
            "Predicted sentiment: neutral\n",
            "Predicted sentiment: neutral\n",
            "Predicted sentiment: neutral\n",
            "Predicted sentiment: neutral\n",
            "Predicted sentiment: neutral\n",
            "Predicted sentiment: neutral\n",
            "Predicted sentiment: neutral\n",
            "Predicted sentiment: neutral\n",
            "Predicted sentiment: neutral\n",
            "Predicted sentiment: neutral\n",
            "Predicted sentiment: neutral\n",
            "Predicted sentiment: neutral\n",
            "Predicted sentiment: neutral\n",
            "Predicted sentiment: neutral\n",
            "Predicted sentiment: neutral\n",
            "Predicted sentiment: neutral\n",
            "Predicted sentiment: neutral\n",
            "Predicted sentiment: neutral\n",
            "Predicted sentiment: neutral\n",
            "Predicted sentiment: neutral\n",
            "Predicted sentiment: neutral\n",
            "Predicted sentiment: neutral\n",
            "Predicted sentiment: neutral\n",
            "Predicted sentiment: neutral\n",
            "Predicted sentiment: neutral\n",
            "Predicted sentiment: neutral\n",
            "Predicted sentiment: neutral\n",
            "Predicted sentiment: neutral\n",
            "Predicted sentiment: positive\n",
            "Predicted sentiment: neutral\n",
            "Predicted sentiment: neutral\n",
            "Predicted sentiment: neutral\n",
            "Predicted sentiment: neutral\n",
            "Predicted sentiment: neutral\n",
            "Predicted sentiment: neutral\n",
            "Predicted sentiment: neutral\n",
            "Predicted sentiment: neutral\n",
            "Predicted sentiment: neutral\n",
            "Predicted sentiment: neutral\n",
            "Predicted sentiment: neutral\n",
            "Predicted sentiment: neutral\n",
            "Predicted sentiment: neutral\n",
            "Predicted sentiment: neutral\n",
            "Predicted sentiment: neutral\n",
            "Predicted sentiment: neutral\n",
            "Predicted sentiment: neutral\n",
            "Predicted sentiment: neutral\n",
            "Predicted sentiment: neutral\n",
            "Predicted sentiment: neutral\n",
            "Predicted sentiment: neutral\n",
            "Predicted sentiment: neutral\n",
            "Predicted sentiment: positive\n",
            "Predicted sentiment: neutral\n",
            "Predicted sentiment: neutral\n"
          ]
        }
      ]
    },
    {
      "cell_type": "code",
      "source": [],
      "metadata": {
        "id": "16lrKs72FxIy"
      },
      "execution_count": null,
      "outputs": []
    }
  ]
}